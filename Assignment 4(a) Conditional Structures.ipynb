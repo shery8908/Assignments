{
 "cells": [
  {
   "cell_type": "markdown",
   "id": "94c5bfa0-6eae-4e55-a684-19655b2b3e77",
   "metadata": {},
   "source": [
    "# Conditional Structures:"
   ]
  },
  {
   "cell_type": "markdown",
   "id": "6487906a-9259-40e5-8b34-fe2f370d51dc",
   "metadata": {},
   "source": [
    "# 1."
   ]
  },
  {
   "cell_type": "code",
   "execution_count": 3,
   "id": "c58c1eff-41ff-4136-b04f-c65044e5845d",
   "metadata": {},
   "outputs": [
    {
     "name": "stdin",
     "output_type": "stream",
     "text": [
      "Enter a number:  2\n"
     ]
    },
    {
     "name": "stdout",
     "output_type": "stream",
     "text": [
      "The number 2 is even.\n"
     ]
    }
   ],
   "source": [
    "number = int(input(\"Enter a number: \"))\n",
    "if number % 2 == 0:\n",
    "    print(f\"The number {number} is even.\")\n",
    "else:\n",
    "    print(f\"The number {number} is odd.\")"
   ]
  },
  {
   "cell_type": "markdown",
   "id": "f2ffa446-d68e-49fa-afd1-c3e0c5a49620",
   "metadata": {},
   "source": [
    "# 2."
   ]
  },
  {
   "cell_type": "code",
   "execution_count": 13,
   "id": "3f937b1e-77fd-48fb-83a5-173f47f2fbad",
   "metadata": {},
   "outputs": [
    {
     "name": "stdin",
     "output_type": "stream",
     "text": [
      "Enter your age:  20\n"
     ]
    },
    {
     "name": "stdout",
     "output_type": "stream",
     "text": [
      "You are eligible to vote.\n"
     ]
    }
   ],
   "source": [
    "age = int(input(\"Enter your age: \"))\n",
    "if age >= 18:\n",
    "    print(\"You are eligible to vote.\")\n",
    "else:\n",
    "    print(\"You are not eligible to vote yet.\")"
   ]
  },
  {
   "cell_type": "markdown",
   "id": "0883e145-9784-4c5a-86eb-7b96e9666ffa",
   "metadata": {},
   "source": [
    "# 3."
   ]
  },
  {
   "cell_type": "code",
   "execution_count": 16,
   "id": "118d759b-213f-459d-9b83-39d51f2f9818",
   "metadata": {},
   "outputs": [
    {
     "name": "stdin",
     "output_type": "stream",
     "text": [
      "Enter the first integer:  5\n",
      "Enter the second integer:  3\n"
     ]
    },
    {
     "name": "stdout",
     "output_type": "stream",
     "text": [
      "The largest number is 5\n"
     ]
    }
   ],
   "source": [
    "num1 = int(input('Enter the first integer: '))\n",
    "num2 = int(input('Enter the second integer: '))\n",
    "if num1 > num2:\n",
    "    print(f'The largest number is {num1}')\n",
    "elif num2 > num1:\n",
    "    print(f'The largest number is {num2}')\n",
    "else:\n",
    "    print('Both Numbers are equal')"
   ]
  },
  {
   "cell_type": "markdown",
   "id": "9a05445b-e1f5-4f1c-9c83-a86abd90aa75",
   "metadata": {},
   "source": [
    "# 4."
   ]
  },
  {
   "cell_type": "code",
   "execution_count": 25,
   "id": "e93ed18c-7fd1-4dd2-beba-ac72449e9e1d",
   "metadata": {},
   "outputs": [
    {
     "name": "stdin",
     "output_type": "stream",
     "text": [
      "Enter a number:  58\n"
     ]
    },
    {
     "name": "stdout",
     "output_type": "stream",
     "text": [
      "Positive\n"
     ]
    }
   ],
   "source": [
    "num = float(input('Enter a number: '))\n",
    "if num > 0:\n",
    "    print('Positive')\n",
    "elif num < 0:\n",
    "    print('Negative')\n",
    "else:\n",
    "    print('Zero')"
   ]
  },
  {
   "cell_type": "markdown",
   "id": "f932e985-99ed-45e5-99df-56b9a4a89f82",
   "metadata": {},
   "source": [
    "# 5."
   ]
  },
  {
   "cell_type": "code",
   "execution_count": 52,
   "id": "5ed8ed65-cde2-49c1-aa86-0a68e0ef816e",
   "metadata": {},
   "outputs": [
    {
     "name": "stdin",
     "output_type": "stream",
     "text": [
      "Enter your age:  19\n"
     ]
    },
    {
     "name": "stdout",
     "output_type": "stream",
     "text": [
      "Teenager\n"
     ]
    }
   ],
   "source": [
    " age = int(input(\"Enter your age: \"))\n",
    "if 0<= age <= 12:\n",
    "    print('Child')\n",
    "elif 13<= age <= 19:\n",
    "    print('Teenager')\n",
    "elif 20<= age <= 59:\n",
    "    print('Adult')\n",
    "elif age >= 60:\n",
    "    print('Senior Citizen')\n",
    "else:\n",
    "    print('Invalid Input')"
   ]
  },
  {
   "cell_type": "markdown",
   "id": "1d528997-9bd6-4023-bebc-13ae59e41d7c",
   "metadata": {},
   "source": [
    "# 6."
   ]
  },
  {
   "cell_type": "code",
   "execution_count": 61,
   "id": "d98a3ee9-8afb-4a16-8d29-3fe621f8c47d",
   "metadata": {},
   "outputs": [
    {
     "name": "stdin",
     "output_type": "stream",
     "text": [
      "Enter a number from 1 to 7:  4\n"
     ]
    },
    {
     "name": "stdout",
     "output_type": "stream",
     "text": [
      "Thursday\n"
     ]
    }
   ],
   "source": [
    "day_number = int(input('Enter a number from 1 to 7: '))\n",
    "if day_number == 1:\n",
    "    print('Monday')\n",
    "elif day_number == 2:\n",
    "    print('Tuesday')\n",
    "elif day_number == 3:\n",
    "    print('Wednesday')\n",
    "elif day_number == 4:\n",
    "    print('Thursday')\n",
    "elif day_number == 5:\n",
    "    print('Friday')\n",
    "elif day_number == 6:\n",
    "    print('Saturday')\n",
    "elif day_number == 7:\n",
    "    print('Sunday')\n",
    "else:\n",
    "    print('Error: Please enter a number between 1 and 7.')"
   ]
  },
  {
   "cell_type": "markdown",
   "id": "3ca00dde-572e-49dd-994d-ddc0b76f3c7c",
   "metadata": {},
   "source": [
    "# 7."
   ]
  },
  {
   "cell_type": "code",
   "execution_count": 84,
   "id": "6cf12afe-a2d2-4a1f-9e45-e5ca100e18df",
   "metadata": {},
   "outputs": [
    {
     "name": "stdin",
     "output_type": "stream",
     "text": [
      "Enter your weight in Kilogram:  60\n",
      "Enter your height in meters:  1.8\n"
     ]
    },
    {
     "name": "stdout",
     "output_type": "stream",
     "text": [
      "Your BMI is 18.52\n",
      "Normal weight\n"
     ]
    }
   ],
   "source": [
    "weight = float(input('Enter your weight in Kilogram: '))\n",
    "height = float(input('Enter your height in meters: '))\n",
    "bmi = weight / (height * height)\n",
    "print(f'Your BMI is {bmi:.2f}')\n",
    "if bmi < 18.5:\n",
    "    print('Underweight')\n",
    "elif 18.5 <= bmi <= 24.9:\n",
    "    print('Normal weight')\n",
    "elif 25 <= bmi <= 29.9:\n",
    "    print('Overweight')\n",
    "else:\n",
    "    print('Obesity')"
   ]
  },
  {
   "cell_type": "markdown",
   "id": "d5a9e9d9-1710-46a7-8bc5-56724068a820",
   "metadata": {},
   "source": [
    "# 8."
   ]
  },
  {
   "cell_type": "code",
   "execution_count": 95,
   "id": "da39fdd6-514a-4117-ad76-631035d69991",
   "metadata": {},
   "outputs": [
    {
     "name": "stdin",
     "output_type": "stream",
     "text": [
      "Enter your marks for subject 1:  65\n",
      "Enter your marks for subject 2:  85\n",
      "Enter your marks for subject 3:  90\n"
     ]
    },
    {
     "name": "stdout",
     "output_type": "stream",
     "text": [
      "The average marks are 80.0\n",
      "Grade: B\n"
     ]
    }
   ],
   "source": [
    "sub1 = float(input('Enter your marks for subject 1: '))\n",
    "sub2 = float(input('Enter your marks for subject 2: '))\n",
    "sub3 = float(input('Enter your marks for subject 3: '))\n",
    "average = (sub1 + sub2 + sub3) / 3\n",
    "print(f'The average marks are {average}')\n",
    "if 90 <= average <= 100:\n",
    "    print('Grade: A')\n",
    "elif 80 <= average <= 89:\n",
    "    print('Grade: B')\n",
    "elif 70 <= average <= 79:\n",
    "    print('Grade: C')\n",
    "elif 60 <= average <= 69:\n",
    "    print('Grade: D')\n",
    "else:\n",
    "    print('Fail')"
   ]
  },
  {
   "cell_type": "markdown",
   "id": "119bda0b-478b-4272-8811-c828b9e1e879",
   "metadata": {},
   "source": [
    "# 9."
   ]
  },
  {
   "cell_type": "code",
   "execution_count": 151,
   "id": "cb777014-b8b8-4edf-9d3b-6a939cc3e1bf",
   "metadata": {},
   "outputs": [
    {
     "name": "stdin",
     "output_type": "stream",
     "text": [
      "Enter the value of a:  1\n",
      "Enter the value of b:  -3\n",
      "Enter the value of c:  2\n"
     ]
    },
    {
     "name": "stdout",
     "output_type": "stream",
     "text": [
      "The equation has two real roots: 2.0 and 1.0\n"
     ]
    }
   ],
   "source": [
    "import cmath  \n",
    "a = float(input(\"Enter the value of a: \"))\n",
    "b = float(input(\"Enter the value of b: \"))\n",
    "c = float(input(\"Enter the value of c: \"))\n",
    "discriminant = b**2 - 4*a*c\n",
    "if discriminant > 0:\n",
    "    root1 = (-b + cmath.sqrt(discriminant)) / (2 * a)\n",
    "    root2 = (-b - cmath.sqrt(discriminant)) / (2 * a)\n",
    "    print(f\"The equation has two real roots: {root1.real} and {root2.real}\")\n",
    "elif discriminant == 0:\n",
    "    root = -b / (2 * a)\n",
    "    print(f\"The equation has two equal real roots: {root}\")\n",
    "else:\n",
    "    root1 = (-b + cmath.sqrt(discriminant)) / (2 * a)\n",
    "    root2 = (-b - cmath.sqrt(discriminant)) / (2 * a)\n",
    "    print(f\"The equation has two complex roots: {root1} and {root2}\")"
   ]
  },
  {
   "cell_type": "markdown",
   "id": "bd29f5f2-3ef8-4ab8-ace2-876391e4a902",
   "metadata": {},
   "source": [
    "# 10."
   ]
  },
  {
   "cell_type": "code",
   "execution_count": 100,
   "id": "e53fcd00-1919-4a06-9d80-8d4c3fc7909b",
   "metadata": {},
   "outputs": [
    {
     "name": "stdin",
     "output_type": "stream",
     "text": [
      "Enter the first number:  8\n",
      "Enter the second number:  13\n",
      "Enter the third number:  6\n"
     ]
    },
    {
     "name": "stdout",
     "output_type": "stream",
     "text": [
      "The numbers in ascending order are: [6, 8, 13]\n"
     ]
    }
   ],
   "source": [
    "num1 = int(input('Enter the first number: '))\n",
    "num2 = int(input('Enter the second number: '))\n",
    "num3 = int(input('Enter the third number: '))\n",
    "numbers = [num1, num2, num3]\n",
    "numbers.sort()\n",
    "print(f'The numbers in ascending order are:', numbers)"
   ]
  },
  {
   "cell_type": "markdown",
   "id": "a595f5bc-f9f1-4f86-9710-3b9732c727d4",
   "metadata": {},
   "source": [
    "# 12."
   ]
  },
  {
   "cell_type": "code",
   "execution_count": 115,
   "id": "c27a46e8-d271-466d-bade-0cfc4b0ea318",
   "metadata": {},
   "outputs": [
    {
     "name": "stdin",
     "output_type": "stream",
     "text": [
      "Enter a character:  p\n"
     ]
    },
    {
     "name": "stdout",
     "output_type": "stream",
     "text": [
      "The character p is consonant\n"
     ]
    }
   ],
   "source": [
    "character = input('Enter a character: ').lower()\n",
    "if character in 'aeiou':\n",
    "    print(f'The character {character} is vowel')\n",
    "elif character.isalpha():\n",
    "    print(f'The character {character} is consonant')\n",
    "else:\n",
    "    print('Invalid input; please enter a letter')"
   ]
  },
  {
   "cell_type": "markdown",
   "id": "47572a4a-2251-43a6-b9fc-ae019191ec7e",
   "metadata": {},
   "source": [
    "# 13."
   ]
  },
  {
   "cell_type": "code",
   "execution_count": 128,
   "id": "d0166aed-a3bb-43e7-907a-6b0a4ae73af9",
   "metadata": {},
   "outputs": [
    {
     "name": "stdin",
     "output_type": "stream",
     "text": [
      "Enter a year:  2020\n"
     ]
    },
    {
     "name": "stdout",
     "output_type": "stream",
     "text": [
      "2020 is a Leap Year.\n"
     ]
    }
   ],
   "source": [
    "year = int(input(\"Enter a year: \"))\n",
    "if (year % 4 == 0 and year % 100 != 0) or (year % 400 == 0):\n",
    "    print(f\"{year} is a Leap Year.\")\n",
    "else:\n",
    "    print(f\"{year} is NOT a Leap Year.\")"
   ]
  },
  {
   "cell_type": "markdown",
   "id": "4a9df803-5fcc-4d34-88ab-eb6864fa7f14",
   "metadata": {},
   "source": [
    "# 14."
   ]
  },
  {
   "cell_type": "code",
   "execution_count": 133,
   "id": "9d0a329f-f902-4d0e-925b-849b10459849",
   "metadata": {},
   "outputs": [
    {
     "name": "stdin",
     "output_type": "stream",
     "text": [
      "Enter the number of calls:  100\n"
     ]
    },
    {
     "name": "stdout",
     "output_type": "stream",
     "text": [
      "Your total bill is Rs. 245.00\n"
     ]
    }
   ],
   "source": [
    "calls = int(input(\"Enter the number of calls: \"))\n",
    "bill = 200  \n",
    "if calls > 100:\n",
    "    bill += 50 * 0.60\n",
    "    calls -= 50\n",
    "\n",
    "if calls > 50:\n",
    "    bill += 50 * 0.50\n",
    "    calls -= 50\n",
    "\n",
    "if calls > 0:\n",
    "    bill += calls * 0.40\n",
    "print(f\"Your total bill is Rs. {bill:.2f}\")"
   ]
  },
  {
   "cell_type": "code",
   "execution_count": 139,
   "id": "4161d6a8-7c81-4cae-a641-2587daa95528",
   "metadata": {},
   "outputs": [
    {
     "name": "stdin",
     "output_type": "stream",
     "text": [
      "Enter the number of calls:  120\n"
     ]
    },
    {
     "name": "stdout",
     "output_type": "stream",
     "text": [
      "Your total bill is Rs. 263.00\n"
     ]
    }
   ],
   "source": [
    "calls = int(input(\"Enter the number of calls: \"))\n",
    "bill = 200  \n",
    "if calls > 100:\n",
    "    bill += 50 * 0.60\n",
    "    calls -= 50  \n",
    "    if calls > 50:\n",
    "        bill += 50 * 0.50\n",
    "        calls -= 50  \n",
    "        if calls > 0:\n",
    "            bill += calls * 0.40\n",
    "else:\n",
    "    if calls > 100:\n",
    "        bill += 50 * 0.60\n",
    "        calls -= 50\n",
    "print(f\"Your total bill is Rs. {bill:.2f}\")"
   ]
  }
 ],
 "metadata": {
  "kernelspec": {
   "display_name": "Python 3 (ipykernel)",
   "language": "python",
   "name": "python3"
  },
  "language_info": {
   "codemirror_mode": {
    "name": "ipython",
    "version": 3
   },
   "file_extension": ".py",
   "mimetype": "text/x-python",
   "name": "python",
   "nbconvert_exporter": "python",
   "pygments_lexer": "ipython3",
   "version": "3.12.7"
  }
 },
 "nbformat": 4,
 "nbformat_minor": 5
}

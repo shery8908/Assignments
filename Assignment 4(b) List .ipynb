{
 "cells": [
  {
   "cell_type": "markdown",
   "id": "893c3905-b06e-423f-b8ee-358e4f08b4aa",
   "metadata": {},
   "source": [
    "# List Assignment:"
   ]
  },
  {
   "cell_type": "markdown",
   "id": "83172e62-2498-47f3-9a48-dbdc96e87c7a",
   "metadata": {},
   "source": [
    "# 1. "
   ]
  },
  {
   "cell_type": "code",
   "execution_count": 18,
   "id": "a16e7983-770d-420f-9d03-197bef262bad",
   "metadata": {},
   "outputs": [
    {
     "name": "stdin",
     "output_type": "stream",
     "text": [
      "Enter a list elements separated by spaces:  1 2 3 4 5 6 7 8 9 10 11\n"
     ]
    },
    {
     "name": "stdout",
     "output_type": "stream",
     "text": [
      "Alternate elements of the lists are:\n",
      "['1', '3', '5', '7', '9', '11']\n"
     ]
    }
   ],
   "source": [
    "lst_input = input('Enter a list elements separated by spaces: ')\n",
    "user_lst = lst_input.split()\n",
    "print('Alternate elements of the lists are:')\n",
    "print(user_lst[::2])"
   ]
  },
  {
   "cell_type": "markdown",
   "id": "2a6da5af-987f-4a55-a7dd-b5cf9c2ce8a3",
   "metadata": {},
   "source": [
    "# 2."
   ]
  },
  {
   "cell_type": "code",
   "execution_count": 23,
   "id": "e1624f31-e9cd-4f63-bf40-bb23c11d4ed9",
   "metadata": {},
   "outputs": [
    {
     "name": "stdin",
     "output_type": "stream",
     "text": [
      "Enter a list elements separated by spaces:  1 2 3 4 5 6\n"
     ]
    },
    {
     "name": "stdout",
     "output_type": "stream",
     "text": [
      "reversed list is:\n",
      "6 5 4 3 2 1\n"
     ]
    }
   ],
   "source": [
    "user_input = input('Enter a list elements separated by spaces: ')\n",
    "user_lst = user_input\n",
    "reversed_list = user_lst[::-1]\n",
    "print('reversed list is:')\n",
    "print(reversed_list)"
   ]
  },
  {
   "cell_type": "markdown",
   "id": "39678a71-03aa-42b5-8904-74644f97fcd6",
   "metadata": {},
   "source": [
    "# 3."
   ]
  },
  {
   "cell_type": "code",
   "execution_count": 26,
   "id": "965113cb-ff4e-4d05-8e44-899f3ddb92a1",
   "metadata": {},
   "outputs": [
    {
     "name": "stdin",
     "output_type": "stream",
     "text": [
      "Enter a list of numbers separated by spaces:  10 20 30 40 50 60 70 80 90\n"
     ]
    },
    {
     "name": "stdout",
     "output_type": "stream",
     "text": [
      "The largest number in the list is: 90.0\n"
     ]
    }
   ],
   "source": [
    "user_input = input(\"Enter a list of numbers separated by spaces: \")\n",
    "user_list = [float(num) for num in user_input.split()]\n",
    "largest_number = user_list[0]\n",
    "for number in user_list:\n",
    "    if number > largest_number:\n",
    "        largest_number = number\n",
    "print(\"The largest number in the list is:\", largest_number)"
   ]
  },
  {
   "cell_type": "markdown",
   "id": "6f74dabd-0a56-40af-a35e-a4c3a22e5cfa",
   "metadata": {},
   "source": [
    "# 4."
   ]
  },
  {
   "cell_type": "code",
   "execution_count": 32,
   "id": "e50f3653-513c-4a04-bcb3-f5a989b3fc84",
   "metadata": {},
   "outputs": [
    {
     "name": "stdin",
     "output_type": "stream",
     "text": [
      "Enter a list of elements separated by spaces:  1 2 3 4 5 6\n"
     ]
    },
    {
     "name": "stdout",
     "output_type": "stream",
     "text": [
      "Rotated list: ['2', '3', '4', '5', '6', '1']\n"
     ]
    }
   ],
   "source": [
    "user_list = input(\"Enter a list of elements separated by spaces: \").split()\n",
    "rotated_list = user_list[1:] + user_list[:1]\n",
    "print(\"Rotated list:\", rotated_list)"
   ]
  },
  {
   "cell_type": "markdown",
   "id": "1abbbb22-e98b-4ca0-9199-b9a7995fa790",
   "metadata": {},
   "source": [
    "# 5."
   ]
  },
  {
   "cell_type": "code",
   "execution_count": 38,
   "id": "e3d35610-8dfd-4b6f-80a3-0344f062911e",
   "metadata": {},
   "outputs": [
    {
     "name": "stdin",
     "output_type": "stream",
     "text": [
      "Enter a string:  A quick brown fox jumps over the lazy dog\n",
      "Enter the word you want to delete:  brown\n"
     ]
    },
    {
     "name": "stdout",
     "output_type": "stream",
     "text": [
      "String after deleting the word:\n",
      "A quick  fox jumps over the lazy dog\n"
     ]
    }
   ],
   "source": [
    "string = input('Enter a string: ')\n",
    "word_delete = input('Enter the word you want to delete: ')\n",
    "result_string = string.replace(word_delete, \"\").strip()\n",
    "print('String after deleting the word:')\n",
    "print(result_string)"
   ]
  },
  {
   "cell_type": "markdown",
   "id": "6e770615-ddd8-4c06-bf55-c8562dfa1541",
   "metadata": {},
   "source": [
    "# 6."
   ]
  },
  {
   "cell_type": "code",
   "execution_count": 43,
   "id": "2c78d36f-c237-4f16-83c0-0ea07186f5d5",
   "metadata": {},
   "outputs": [
    {
     "name": "stdin",
     "output_type": "stream",
     "text": [
      "Enter the date in mm/dd/yyyy format:  12/20/2024\n"
     ]
    },
    {
     "name": "stdout",
     "output_type": "stream",
     "text": [
      "December 20, 2024\n"
     ]
    }
   ],
   "source": [
    "date_string = input(\"Enter the date in mm/dd/yyyy format: \")\n",
    "month, day, year = date_string.split('/')\n",
    "months = [\"January\", \"February\", \"March\", \"April\", \"May\", \"June\", \n",
    "          \"July\", \"August\", \"September\", \"October\", \"November\", \"December\"]\n",
    "month_name = months[int(month) - 1]\n",
    "print(f\"{month_name} {int(day)}, {year}\")"
   ]
  },
  {
   "cell_type": "markdown",
   "id": "80efd938-d740-424e-9a35-7e4960cd1e44",
   "metadata": {},
   "source": [
    "# 7."
   ]
  },
  {
   "cell_type": "code",
   "execution_count": 46,
   "id": "50a4f804-7377-467f-97f3-381f21d134a8",
   "metadata": {},
   "outputs": [
    {
     "name": "stdin",
     "output_type": "stream",
     "text": [
      "Enter a string:  you are welcome to the wedding\n"
     ]
    },
    {
     "name": "stdout",
     "output_type": "stream",
     "text": [
      "String with capitalized words: You Are Welcome To The Wedding\n"
     ]
    }
   ],
   "source": [
    "user_string = input(\"Enter a string: \")\n",
    "result_string = ' '.join([word.capitalize() for word in user_string.split()])\n",
    "print(\"String with capitalized words:\", result_string)"
   ]
  },
  {
   "cell_type": "markdown",
   "id": "3f1588c8-073c-48e9-8adf-d073cc9c3ed4",
   "metadata": {},
   "source": [
    "# 8."
   ]
  },
  {
   "cell_type": "code",
   "execution_count": 51,
   "id": "8dd62853-3d27-4d24-a3c4-18ecb2ab0def",
   "metadata": {},
   "outputs": [
    {
     "name": "stdin",
     "output_type": "stream",
     "text": [
      "Enter the number of rows:  4\n",
      "Enter the number of columns:  4\n",
      "Enter row 1 elements separated by spaces:  5 6 2 0\n",
      "Enter row 2 elements separated by spaces:  8 6 4 3\n",
      "Enter row 3 elements separated by spaces:  8 8 6 3\n",
      "Enter row 4 elements separated by spaces:   1 5 2 3\n"
     ]
    },
    {
     "name": "stdout",
     "output_type": "stream",
     "text": [
      "Sum of row 1 = 13\n",
      "Sum of row 2 = 21\n",
      "Sum of row 3 = 25\n",
      "Sum of row 4 = 11\n"
     ]
    }
   ],
   "source": [
    "m = int(input(\"Enter the number of rows: \"))\n",
    "n = int(input(\"Enter the number of columns: \"))\n",
    "matrix = [list(map(int, input(f\"Enter row {i+1} elements separated by spaces: \").split())) for i in range(m)]\n",
    "row_sums = [sum(row) for row in matrix]\n",
    "for i, row_sum in enumerate(row_sums):\n",
    "    print(f\"Sum of row {i+1} = {row_sum}\")"
   ]
  },
  {
   "cell_type": "markdown",
   "id": "e85b21db-e202-4a2a-a692-87b98a5277de",
   "metadata": {},
   "source": [
    "# 9."
   ]
  },
  {
   "cell_type": "code",
   "execution_count": 54,
   "id": "7f5675a2-35d3-43b2-be30-e396e1d13840",
   "metadata": {},
   "outputs": [
    {
     "name": "stdin",
     "output_type": "stream",
     "text": [
      "Enter the number of rows:  4\n",
      "Enter the number of columns:  4\n"
     ]
    },
    {
     "name": "stdout",
     "output_type": "stream",
     "text": [
      "Enter elements for the first matrix:\n"
     ]
    },
    {
     "name": "stdin",
     "output_type": "stream",
     "text": [
      "Enter row 1 elements separated by spaces:  8 7 2 2\n",
      "Enter row 2 elements separated by spaces:  3 1 3 9\n",
      "Enter row 3 elements separated by spaces:  5 6 2 0\n",
      "Enter row 4 elements separated by spaces:  7 8 2 6\n"
     ]
    },
    {
     "name": "stdout",
     "output_type": "stream",
     "text": [
      "Enter elements for the second matrix:\n"
     ]
    },
    {
     "name": "stdin",
     "output_type": "stream",
     "text": [
      "Enter row 1 elements separated by spaces:  1 2 1 8\n",
      "Enter row 2 elements separated by spaces:  2 3 4 0\n",
      "Enter row 3 elements separated by spaces:  2 3 8 9\n",
      "Enter row 4 elements separated by spaces:  7 5 6 1\n"
     ]
    },
    {
     "name": "stdout",
     "output_type": "stream",
     "text": [
      "The result of matrix addition is:\n",
      "[9, 9, 3, 10]\n",
      "[5, 4, 7, 9]\n",
      "[7, 9, 10, 9]\n",
      "[14, 13, 8, 7]\n"
     ]
    }
   ],
   "source": [
    "n = int(input(\"Enter the number of rows: \"))\n",
    "m = int(input(\"Enter the number of columns: \"))\n",
    "print(\"Enter elements for the first matrix:\")\n",
    "matrix1 = [list(map(int, input(f\"Enter row {i+1} elements separated by spaces: \").split())) for i in range(n)]\n",
    "print(\"Enter elements for the second matrix:\")\n",
    "matrix2 = [list(map(int, input(f\"Enter row {i+1} elements separated by spaces: \").split())) for i in range(n)]\n",
    "result_matrix = [[matrix1[i][j] + matrix2[i][j] for j in range(m)] for i in range(n)]\n",
    "print(\"The result of matrix addition is:\")\n",
    "for row in result_matrix:\n",
    "    print(row)"
   ]
  },
  {
   "cell_type": "markdown",
   "id": "286db1a7-af58-4f0e-b905-2a812dbe70cd",
   "metadata": {},
   "source": [
    "# 10."
   ]
  },
  {
   "cell_type": "code",
   "execution_count": 57,
   "id": "cfbf8b8f-5e08-4d25-8ffd-8c8d563e1b85",
   "metadata": {},
   "outputs": [
    {
     "name": "stdin",
     "output_type": "stream",
     "text": [
      "Enter the number of rows for the first matrix:  4\n",
      "Enter the number of columns for the first matrix:  4\n",
      "Enter the number of rows for the second matrix:  4\n",
      "Enter the number of columns for the second matrix:  4\n"
     ]
    },
    {
     "name": "stdout",
     "output_type": "stream",
     "text": [
      "Enter elements for the first matrix:\n"
     ]
    },
    {
     "name": "stdin",
     "output_type": "stream",
     "text": [
      "Enter row 1 elements separated by spaces:  7 8 3 5\n",
      "Enter row 2 elements separated by spaces:  9 8 3 1\n",
      "Enter row 3 elements separated by spaces:  5 0 7 6\n",
      "Enter row 4 elements separated by spaces:  6 5 3 8\n"
     ]
    },
    {
     "name": "stdout",
     "output_type": "stream",
     "text": [
      "Enter elements for the second matrix:\n"
     ]
    },
    {
     "name": "stdin",
     "output_type": "stream",
     "text": [
      "Enter row 1 elements separated by spaces:  2 0 3 9\n",
      "Enter row 2 elements separated by spaces:  6 1 3 8\n",
      "Enter row 3 elements separated by spaces:  4 9 2 3\n",
      "Enter row 4 elements separated by spaces:  1 0 5 8\n"
     ]
    },
    {
     "name": "stdout",
     "output_type": "stream",
     "text": [
      "The result of matrix multiplication is:\n",
      "[79, 35, 76, 176]\n",
      "[79, 35, 62, 162]\n",
      "[44, 63, 59, 114]\n",
      "[62, 32, 79, 167]\n"
     ]
    }
   ],
   "source": [
    "n = int(input(\"Enter the number of rows for the first matrix: \"))\n",
    "m = int(input(\"Enter the number of columns for the first matrix: \"))\n",
    "p = int(input(\"Enter the number of rows for the second matrix: \"))\n",
    "q = int(input(\"Enter the number of columns for the second matrix: \"))\n",
    "if m != p:\n",
    "    print(\"Matrix multiplication is not possible. The number of columns in the first matrix must equal the number of rows in the second matrix.\")\n",
    "else:\n",
    "    print(\"Enter elements for the first matrix:\")\n",
    "    matrix1 = [list(map(int, input(f\"Enter row {i+1} elements separated by spaces: \").split())) for i in range(n)]\n",
    "    print(\"Enter elements for the second matrix:\")\n",
    "    matrix2 = [list(map(int, input(f\"Enter row {i+1} elements separated by spaces: \").split())) for i in range(p)]\n",
    "    result_matrix = [[0 for _ in range(q)] for _ in range(n)]\n",
    "    for i in range(n):\n",
    "        for j in range(q):\n",
    "            for k in range(m):\n",
    "                result_matrix[i][j] += matrix1[i][k] * matrix2[k][j]\n",
    "    print(\"The result of matrix multiplication is:\")\n",
    "    for row in result_matrix:\n",
    "        print(row)"
   ]
  }
 ],
 "metadata": {
  "kernelspec": {
   "display_name": "Python 3 (ipykernel)",
   "language": "python",
   "name": "python3"
  },
  "language_info": {
   "codemirror_mode": {
    "name": "ipython",
    "version": 3
   },
   "file_extension": ".py",
   "mimetype": "text/x-python",
   "name": "python",
   "nbconvert_exporter": "python",
   "pygments_lexer": "ipython3",
   "version": "3.12.7"
  }
 },
 "nbformat": 4,
 "nbformat_minor": 5
}

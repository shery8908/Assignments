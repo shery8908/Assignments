{
 "cells": [
  {
   "cell_type": "markdown",
   "id": "f820334a-75aa-4cb9-abc6-211920acd4bf",
   "metadata": {},
   "source": [
    "# Looping Structures:"
   ]
  },
  {
   "cell_type": "markdown",
   "id": "570985fe-5fcc-49b8-a859-4d681db2e28a",
   "metadata": {},
   "source": [
    "# 1."
   ]
  },
  {
   "cell_type": "code",
   "execution_count": 6,
   "id": "6e9c91b5-6682-4cda-9d20-9efd3be75c17",
   "metadata": {},
   "outputs": [
    {
     "name": "stdout",
     "output_type": "stream",
     "text": [
      "1\n",
      "2\n",
      "3\n",
      "4\n",
      "5\n",
      "6\n",
      "7\n",
      "8\n",
      "9\n",
      "10\n"
     ]
    }
   ],
   "source": [
    "for i in range(1,11):\n",
    "    print(i)"
   ]
  },
  {
   "cell_type": "markdown",
   "id": "c1127d28-d130-4f24-9ae1-6fdd759eaa2b",
   "metadata": {},
   "source": [
    "# 2."
   ]
  },
  {
   "cell_type": "code",
   "execution_count": 9,
   "id": "18129e69-4eca-47be-a9c7-3af24c83add5",
   "metadata": {},
   "outputs": [
    {
     "name": "stdout",
     "output_type": "stream",
     "text": [
      "20\n",
      "19\n",
      "18\n",
      "17\n",
      "16\n",
      "15\n",
      "14\n",
      "13\n",
      "12\n",
      "11\n",
      "10\n",
      "9\n",
      "8\n",
      "7\n",
      "6\n",
      "5\n",
      "4\n",
      "3\n",
      "2\n",
      "1\n"
     ]
    }
   ],
   "source": [
    "i = 20\n",
    "while i >= 1:\n",
    "    print(i)\n",
    "    i -= 1"
   ]
  },
  {
   "cell_type": "markdown",
   "id": "ad4f5b72-5203-4d13-86c8-4090ce87d116",
   "metadata": {},
   "source": [
    "# 3."
   ]
  },
  {
   "cell_type": "code",
   "execution_count": 19,
   "id": "418761dd-95de-4c1f-ad57-3370702c27f0",
   "metadata": {},
   "outputs": [
    {
     "name": "stdout",
     "output_type": "stream",
     "text": [
      "2\n",
      "4\n",
      "6\n",
      "8\n",
      "10\n"
     ]
    }
   ],
   "source": [
    "for i in range(1,11):\n",
    "    if i%2==0:\n",
    "        print(i)"
   ]
  },
  {
   "cell_type": "markdown",
   "id": "d334b50b-5ceb-497d-a027-11b0e8b1d6eb",
   "metadata": {},
   "source": [
    "# 4."
   ]
  },
  {
   "cell_type": "code",
   "execution_count": 4,
   "id": "95d97e1b-6b10-475b-8230-b17e489578b7",
   "metadata": {},
   "outputs": [
    {
     "name": "stdin",
     "output_type": "stream",
     "text": [
      "Enter a number:  9\n"
     ]
    },
    {
     "name": "stdout",
     "output_type": "stream",
     "text": [
      "1\n",
      "2\n",
      "3\n",
      "4\n",
      "5\n",
      "6\n",
      "7\n",
      "8\n",
      "9\n"
     ]
    }
   ],
   "source": [
    "n = int(input('Enter a number: '))\n",
    "for e in range(1,n+1):\n",
    "    print(e)"
   ]
  },
  {
   "cell_type": "markdown",
   "id": "2b8bf6d2-7405-43f3-a7f1-a6f3f01506af",
   "metadata": {},
   "source": [
    "# 5."
   ]
  },
  {
   "cell_type": "code",
   "execution_count": 7,
   "id": "6ba78804-c68e-4fab-8978-e8430d55f3f0",
   "metadata": {},
   "outputs": [
    {
     "name": "stdin",
     "output_type": "stream",
     "text": [
      "Enter a number:  10\n"
     ]
    },
    {
     "name": "stdout",
     "output_type": "stream",
     "text": [
      "1\n",
      "3\n",
      "5\n",
      "7\n",
      "9\n"
     ]
    }
   ],
   "source": [
    "n = int(input('Enter a number: '))\n",
    "for num in range(1, n+1):\n",
    "    if num%2!=0:\n",
    "        print(num)"
   ]
  },
  {
   "cell_type": "markdown",
   "id": "fb25b63e-68e2-42ac-9829-4d7f9ad0d470",
   "metadata": {},
   "source": [
    "# 6."
   ]
  },
  {
   "cell_type": "code",
   "execution_count": 10,
   "id": "815ccbcf-c3bf-46d1-ae94-99a88bbcec50",
   "metadata": {},
   "outputs": [
    {
     "name": "stdout",
     "output_type": "stream",
     "text": [
      "Happy Birthday!\n",
      "Happy Birthday!\n",
      "Happy Birthday!\n",
      "Happy Birthday!\n",
      "Happy Birthday!\n"
     ]
    }
   ],
   "source": [
    "for _ in range(5):\n",
    "    print('Happy Birthday!')"
   ]
  },
  {
   "cell_type": "markdown",
   "id": "b712f85f-c236-4d3c-b954-38d9bd9d2881",
   "metadata": {},
   "source": [
    "# 7."
   ]
  },
  {
   "cell_type": "code",
   "execution_count": 15,
   "id": "b8fe3d33-7bf0-4e7e-bc4c-b9da7552cae1",
   "metadata": {},
   "outputs": [
    {
     "name": "stdin",
     "output_type": "stream",
     "text": [
      "Enter a number:  5\n"
     ]
    },
    {
     "name": "stdout",
     "output_type": "stream",
     "text": [
      "1\n",
      "4\n",
      "9\n",
      "16\n",
      "25\n"
     ]
    }
   ],
   "source": [
    "n = int(input('Enter a number: '))\n",
    "for num in range(1, n+1):\n",
    "    print(num**2)"
   ]
  },
  {
   "cell_type": "markdown",
   "id": "9f32ebaa-fda8-40bf-bca4-c3a0d225749f",
   "metadata": {},
   "source": [
    "# 8."
   ]
  },
  {
   "cell_type": "code",
   "execution_count": 18,
   "id": "b25c239d-9104-4abe-b0b7-8f4265078c8c",
   "metadata": {},
   "outputs": [
    {
     "name": "stdin",
     "output_type": "stream",
     "text": [
      "Enter a number:  8\n"
     ]
    },
    {
     "name": "stdout",
     "output_type": "stream",
     "text": [
      "8 x 1 = 8\n",
      "8 x 2 = 16\n",
      "8 x 3 = 24\n",
      "8 x 4 = 32\n",
      "8 x 5 = 40\n",
      "8 x 6 = 48\n",
      "8 x 7 = 56\n",
      "8 x 8 = 64\n",
      "8 x 9 = 72\n",
      "8 x 10 = 80\n"
     ]
    }
   ],
   "source": [
    "number = int(input('Enter a number: '))\n",
    "for i in range(1,11):\n",
    "    print(f'{number} x {i} = {number * i}')"
   ]
  },
  {
   "cell_type": "markdown",
   "id": "2b513fd4-fa98-4fde-a7d4-7dc5a76d3f74",
   "metadata": {},
   "source": [
    "# 9."
   ]
  },
  {
   "cell_type": "code",
   "execution_count": 21,
   "id": "717cb459-aee1-43dd-ad26-0157a5141e45",
   "metadata": {},
   "outputs": [
    {
     "name": "stdout",
     "output_type": "stream",
     "text": [
      "3 7 11 15 19 23 27 31 "
     ]
    }
   ],
   "source": [
    "start = 3\n",
    "diff = 4\n",
    "terms = 8\n",
    "for i in range(terms):\n",
    "    print(start + i* diff, end=' ')"
   ]
  },
  {
   "cell_type": "markdown",
   "id": "64409fb5-e605-404b-84b5-26952ffcf65c",
   "metadata": {},
   "source": [
    "# 10."
   ]
  },
  {
   "cell_type": "code",
   "execution_count": 26,
   "id": "b1281ebe-0187-496b-b362-67c2a5c4d23f",
   "metadata": {},
   "outputs": [
    {
     "name": "stdout",
     "output_type": "stream",
     "text": [
      "2 6 18 54 162 486 "
     ]
    }
   ],
   "source": [
    "start = 2\n",
    "ratio = 3\n",
    "terms = 6\n",
    "for i in range(terms):\n",
    "    print(start * (ratio ** i), end=' ')"
   ]
  },
  {
   "cell_type": "markdown",
   "id": "1fb06948-5c33-4279-926c-0e2def567b03",
   "metadata": {},
   "source": [
    "# 11."
   ]
  },
  {
   "cell_type": "code",
   "execution_count": 29,
   "id": "153b56b4-acdd-4137-a3ce-91f50bcb9c8b",
   "metadata": {},
   "outputs": [
    {
     "name": "stdin",
     "output_type": "stream",
     "text": [
      "Enter a positive integer:  5\n"
     ]
    },
    {
     "name": "stdout",
     "output_type": "stream",
     "text": [
      "The sum of all integers from 1 to 5 is 15\n"
     ]
    }
   ],
   "source": [
    "n = int(input(\"Enter a positive integer: \"))\n",
    "total_sum = 0 \n",
    "for i in range(1, n + 1):\n",
    "    total_sum += i\n",
    "print(f\"The sum of all integers from 1 to {n} is {total_sum}\")"
   ]
  },
  {
   "cell_type": "markdown",
   "id": "0021cfb3-b99f-4078-a7cb-f646e0a2d52d",
   "metadata": {},
   "source": [
    "# 12."
   ]
  },
  {
   "cell_type": "code",
   "execution_count": 34,
   "id": "8e0ea1e6-5dcf-4d26-b34b-eaae9df0bb7c",
   "metadata": {},
   "outputs": [
    {
     "name": "stdin",
     "output_type": "stream",
     "text": [
      "Enter a positive integer:  8\n"
     ]
    },
    {
     "name": "stdout",
     "output_type": "stream",
     "text": [
      "The sum of reciprocals from 1 to 8 is: 2.72\n"
     ]
    }
   ],
   "source": [
    "N = int(input(\"Enter a positive integer: \"))\n",
    "reciprocal_sum = 0\n",
    "for i in range(1, N + 1):\n",
    "    reciprocal_sum += 1 / i\n",
    "print(f\"The sum of reciprocals from 1 to {N} is: {reciprocal_sum:.2f}\")"
   ]
  },
  {
   "cell_type": "markdown",
   "id": "1aae0eb7-39cf-40ae-aeb7-1274f1372660",
   "metadata": {},
   "source": [
    "# 13."
   ]
  },
  {
   "cell_type": "code",
   "execution_count": 37,
   "id": "6da7e6cd-8e94-41bc-9b0f-d51d9d703ded",
   "metadata": {},
   "outputs": [
    {
     "name": "stdin",
     "output_type": "stream",
     "text": [
      "Enter a number:  15\n",
      "Enter a number:  30\n",
      "Enter a number:  45\n",
      "Enter a number:  60\n",
      "Enter a number:  75\n"
     ]
    },
    {
     "name": "stdout",
     "output_type": "stream",
     "text": [
      "The final running total is: 225.0\n"
     ]
    }
   ],
   "source": [
    "running_total = 0\n",
    "for i in range(5):\n",
    "    number = float(input(\"Enter a number: \"))\n",
    "    running_total += number\n",
    "print(f\"The final running total is: {running_total}\")"
   ]
  },
  {
   "cell_type": "markdown",
   "id": "31659f16-f13c-48f3-a3d9-1fb6c9641b3b",
   "metadata": {},
   "source": [
    "# 14."
   ]
  },
  {
   "cell_type": "code",
   "execution_count": 44,
   "id": "b8632637-1d7a-429a-a1e9-f7035a3ddc6f",
   "metadata": {},
   "outputs": [
    {
     "name": "stdin",
     "output_type": "stream",
     "text": [
      "Enter a positive integer:  5\n"
     ]
    },
    {
     "name": "stdout",
     "output_type": "stream",
     "text": [
      "The factorial is: 120\n"
     ]
    }
   ],
   "source": [
    "n = int(input(\"Enter a positive integer: \"))\n",
    "if n < 0:\n",
    "    print(\"Factorial does not exist for negative numbers.\")\n",
    "elif n == 0:\n",
    "    print(\"The factorial is: 1\")\n",
    "else:\n",
    "    factorial = 1\n",
    "    for i in range(1, n + 1):\n",
    "        factorial *= i\n",
    "    print(f\"The factorial is: {factorial}\")"
   ]
  },
  {
   "cell_type": "markdown",
   "id": "9584a1e8-865d-4a07-a966-c8139091e363",
   "metadata": {},
   "source": [
    "# 15."
   ]
  },
  {
   "cell_type": "code",
   "execution_count": 51,
   "id": "f31e38d6-7845-4f72-aa39-85c102bcd5d4",
   "metadata": {},
   "outputs": [
    {
     "name": "stdin",
     "output_type": "stream",
     "text": [
      "Enter the base number:  2\n",
      "Enter the exponent:  8\n"
     ]
    },
    {
     "name": "stdout",
     "output_type": "stream",
     "text": [
      "2.0 raised to the power of 8 is: 256.0\n"
     ]
    }
   ],
   "source": [
    "base = float(input(\"Enter the base number: \"))\n",
    "exponent = int(input(\"Enter the exponent: \"))\n",
    "result = 1\n",
    "if exponent > 0:\n",
    "    for i in range(exponent):\n",
    "        result *= base\n",
    "elif exponent < 0:\n",
    "    for i in range(abs(exponent)):\n",
    "        result *= base\n",
    "    result = 1 / result  \n",
    "else:\n",
    "    result = 1\n",
    "print(f\"{base} raised to the power of {exponent} is: {result}\")"
   ]
  },
  {
   "cell_type": "code",
   "execution_count": null,
   "id": "12d3ddc3-d1de-41fc-9aea-86ae2eafe854",
   "metadata": {},
   "outputs": [],
   "source": []
  },
  {
   "cell_type": "code",
   "execution_count": null,
   "id": "ecd4e003-475b-47c3-9cbe-5859305bd387",
   "metadata": {},
   "outputs": [],
   "source": []
  }
 ],
 "metadata": {
  "kernelspec": {
   "display_name": "Python 3 (ipykernel)",
   "language": "python",
   "name": "python3"
  },
  "language_info": {
   "codemirror_mode": {
    "name": "ipython",
    "version": 3
   },
   "file_extension": ".py",
   "mimetype": "text/x-python",
   "name": "python",
   "nbconvert_exporter": "python",
   "pygments_lexer": "ipython3",
   "version": "3.12.7"
  }
 },
 "nbformat": 4,
 "nbformat_minor": 5
}

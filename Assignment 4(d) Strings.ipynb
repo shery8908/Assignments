{
 "cells": [
  {
   "cell_type": "markdown",
   "id": "7e7328f7-3643-446c-89d8-c018dce9101d",
   "metadata": {},
   "source": [
    "# Strings Assignment:"
   ]
  },
  {
   "cell_type": "markdown",
   "id": "704cc49e-cfe6-4396-a595-7aef797b0e97",
   "metadata": {},
   "source": [
    "# 1."
   ]
  },
  {
   "cell_type": "code",
   "execution_count": 4,
   "id": "2093f408-9631-4d4d-87f9-5e9f9f210a65",
   "metadata": {},
   "outputs": [
    {
     "name": "stdin",
     "output_type": "stream",
     "text": [
      "Enter a string:  How are you \n"
     ]
    },
    {
     "name": "stdout",
     "output_type": "stream",
     "text": [
      "The number of vowels in the string is: 5\n"
     ]
    }
   ],
   "source": [
    "user_input = input(\"Enter a string: \")\n",
    "vowel_count = 0\n",
    "vowels = \"aeiouAEIOU\"\n",
    "for char in user_input:\n",
    "    if char in vowels:\n",
    "        vowel_count += 1\n",
    "print(f\"The number of vowels in the string is: {vowel_count}\")"
   ]
  },
  {
   "cell_type": "markdown",
   "id": "731b3cde-39d5-464f-9408-13a5d549c49b",
   "metadata": {},
   "source": [
    "# 2."
   ]
  },
  {
   "cell_type": "code",
   "execution_count": 7,
   "id": "d23b84b2-6c28-4db5-ba21-59ed29f7092d",
   "metadata": {},
   "outputs": [
    {
     "name": "stdin",
     "output_type": "stream",
     "text": [
      "Enter a string:  This is the 5th Test\n"
     ]
    },
    {
     "name": "stdout",
     "output_type": "stream",
     "text": [
      "Number of uppercase letters: 2\n",
      "Number of lowercase letters: 13\n",
      "Number of digits: 1\n",
      "Number of whitespace characters: 4\n"
     ]
    }
   ],
   "source": [
    "user_input = input(\"Enter a string: \")\n",
    "uppercase_count = 0\n",
    "lowercase_count = 0\n",
    "digit_count = 0\n",
    "whitespace_count = 0\n",
    "for char in user_input:\n",
    "    if char.isupper():\n",
    "        uppercase_count += 1\n",
    "    elif char.islower():\n",
    "        lowercase_count += 1\n",
    "    elif char.isdigit():\n",
    "        digit_count += 1\n",
    "    elif char.isspace():\n",
    "        whitespace_count += 1\n",
    "print(f\"Number of uppercase letters: {uppercase_count}\")\n",
    "print(f\"Number of lowercase letters: {lowercase_count}\")\n",
    "print(f\"Number of digits: {digit_count}\")\n",
    "print(f\"Number of whitespace characters: {whitespace_count}\")"
   ]
  },
  {
   "cell_type": "markdown",
   "id": "61c9874c-8981-42bd-af55-eb6887fb6a45",
   "metadata": {},
   "source": [
    "# 3."
   ]
  },
  {
   "cell_type": "code",
   "execution_count": 11,
   "id": "b72f41d1-3718-4f7e-8096-e9c4c835d6cd",
   "metadata": {},
   "outputs": [
    {
     "name": "stdin",
     "output_type": "stream",
     "text": [
      "Enter a string:  What are you doing\n"
     ]
    },
    {
     "name": "stdout",
     "output_type": "stream",
     "text": [
      "The new string with first and last characters swapped is: ghat are you doinW\n"
     ]
    }
   ],
   "source": [
    "user_input = input(\"Enter a string: \")\n",
    "if len(user_input) > 1:\n",
    "    swapped_string = user_input[-1] + user_input[1:-1] + user_input[0]\n",
    "else:\n",
    "    swapped_string = user_input\n",
    "print(\"The new string with first and last characters swapped is:\", swapped_string)"
   ]
  },
  {
   "cell_type": "markdown",
   "id": "f840aa2b-a23c-4232-a0c7-5906a65858eb",
   "metadata": {},
   "source": [
    "# 4."
   ]
  },
  {
   "cell_type": "code",
   "execution_count": 16,
   "id": "2e6b0eb5-894e-46eb-b700-e224b90d2f1a",
   "metadata": {},
   "outputs": [
    {
     "name": "stdin",
     "output_type": "stream",
     "text": [
      "Enter a string:  That is a cat\n"
     ]
    },
    {
     "name": "stdout",
     "output_type": "stream",
     "text": [
      "The reversed string is: tac a si tahT\n"
     ]
    }
   ],
   "source": [
    "user_input = input(\"Enter a string: \")\n",
    "reversed_string = user_input[::-1]\n",
    "print(\"The reversed string is:\", reversed_string)"
   ]
  },
  {
   "cell_type": "markdown",
   "id": "0882cc4e-e16f-4d27-9c4c-ac718310ebc7",
   "metadata": {},
   "source": [
    "# 5."
   ]
  },
  {
   "cell_type": "code",
   "execution_count": 20,
   "id": "fb2f7ad3-51a8-4798-9755-0978faf569e8",
   "metadata": {},
   "outputs": [
    {
     "name": "stdin",
     "output_type": "stream",
     "text": [
      "Enter a string:  A quick brown fox jumps over the lazy dog  \n"
     ]
    },
    {
     "name": "stdout",
     "output_type": "stream",
     "text": [
      "The new string after shifting one position to the left is:  quick brown fox jumps over the lazy dog  A\n"
     ]
    }
   ],
   "source": [
    "user_input = input(\"Enter a string: \")\n",
    "if len(user_input) > 1:\n",
    "    shifted_string = user_input[1:] + user_input[0]\n",
    "else:\n",
    "    shifted_string = user_input\n",
    "print(\"The new string after shifting one position to the left is:\", shifted_string)"
   ]
  },
  {
   "cell_type": "markdown",
   "id": "4355964c-75ad-40ba-964d-4489fafef585",
   "metadata": {},
   "source": [
    "# 6."
   ]
  },
  {
   "cell_type": "code",
   "execution_count": 25,
   "id": "9d54d11a-0c92-4a63-ade6-671bf550477e",
   "metadata": {},
   "outputs": [
    {
     "name": "stdin",
     "output_type": "stream",
     "text": [
      "Enter your full name (first, middle, and last name):  Tom Lee Kim\n"
     ]
    },
    {
     "name": "stdout",
     "output_type": "stream",
     "text": [
      "Your initials are: TLK\n"
     ]
    }
   ],
   "source": [
    "full_name = input(\"Enter your full name (first, middle, and last name): \")\n",
    "name_parts = full_name.split()\n",
    "initials = ''.join([part[0].upper() for part in name_parts])\n",
    "print(\"Your initials are:\", initials)"
   ]
  },
  {
   "cell_type": "markdown",
   "id": "fce7e27e-5be6-4385-bf2f-6b22a803dd01",
   "metadata": {},
   "source": [
    "# 7."
   ]
  },
  {
   "cell_type": "code",
   "execution_count": 35,
   "id": "02fd4aa3-7e28-489f-82e4-2b26e5c20bb0",
   "metadata": {},
   "outputs": [
    {
     "name": "stdin",
     "output_type": "stream",
     "text": [
      "Enter a string:  radar\n"
     ]
    },
    {
     "name": "stdout",
     "output_type": "stream",
     "text": [
      "The string is a palindrome.\n"
     ]
    }
   ],
   "source": [
    "user_input = input(\"Enter a string: \")\n",
    "cleaned_input = user_input.replace(\" \", \"\").lower()\n",
    "start = 0\n",
    "end = len(cleaned_input) - 1\n",
    "is_palindrome = True\n",
    "while start < end:\n",
    "    if cleaned_input[start] != cleaned_input[end]:\n",
    "        is_palindrome = False\n",
    "        break\n",
    "    start += 1\n",
    "    end -= 1\n",
    "if is_palindrome:\n",
    "    print(\"The string is a palindrome.\")\n",
    "else:\n",
    "    print(\"The string is not a palindrome.\")"
   ]
  },
  {
   "cell_type": "markdown",
   "id": "060d6df8-a73e-491a-aab6-ba61d382a56a",
   "metadata": {},
   "source": [
    "# 8."
   ]
  },
  {
   "cell_type": "code",
   "execution_count": 39,
   "id": "73f7a918-d159-4d3c-9f42-1bf438457cd1",
   "metadata": {},
   "outputs": [
    {
     "name": "stdout",
     "output_type": "stream",
     "text": [
      "SHIFT\n",
      "HIFTS\n",
      "IFTSH\n",
      "FTSHI\n",
      "TSHIF\n",
      "SHIFT\n"
     ]
    }
   ],
   "source": [
    "word = \"SHIFT\"\n",
    "for i in range(len(word) + 1):  \n",
    "    print(word[i:] + word[:i])"
   ]
  },
  {
   "cell_type": "markdown",
   "id": "fbfc3fef-09ba-4e3e-9c4f-ba2e9fddf898",
   "metadata": {},
   "source": [
    "# 9."
   ]
  },
  {
   "cell_type": "code",
   "execution_count": 45,
   "id": "ac9971eb-a5f9-434a-954a-45aa51ab0f8c",
   "metadata": {},
   "outputs": [
    {
     "name": "stdin",
     "output_type": "stream",
     "text": [
      "Enter a password:  Youthe789\n"
     ]
    },
    {
     "name": "stdout",
     "output_type": "stream",
     "text": [
      "Password is valid.\n"
     ]
    }
   ],
   "source": [
    "password = input(\"Enter a password: \")\n",
    "if len(password) < 8:\n",
    "    print(\"Password must be at least 8 characters long.\")\n",
    "elif not any(char.isupper() for char in password):\n",
    "    print(\"Password must contain at least one uppercase letter.\")\n",
    "elif not any(char.islower() for char in password):\n",
    "    print(\"Password must contain at least one lowercase letter.\")\n",
    "elif not any(char.isdigit() for char in password):\n",
    "    print(\"Password must contain at least one numeric digit.\")\n",
    "else:\n",
    "    print(\"Password is valid.\")"
   ]
  }
 ],
 "metadata": {
  "kernelspec": {
   "display_name": "Python 3 (ipykernel)",
   "language": "python",
   "name": "python3"
  },
  "language_info": {
   "codemirror_mode": {
    "name": "ipython",
    "version": 3
   },
   "file_extension": ".py",
   "mimetype": "text/x-python",
   "name": "python",
   "nbconvert_exporter": "python",
   "pygments_lexer": "ipython3",
   "version": "3.12.7"
  }
 },
 "nbformat": 4,
 "nbformat_minor": 5
}

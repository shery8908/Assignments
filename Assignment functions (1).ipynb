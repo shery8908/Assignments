{
 "cells": [
  {
   "cell_type": "markdown",
   "id": "ad551aff-72db-428a-be96-2faaa4f39b9f",
   "metadata": {},
   "source": [
    "# 1."
   ]
  },
  {
   "cell_type": "code",
   "execution_count": 12,
   "id": "b6f9f26a-75a0-44e9-8b77-f51d9d46510c",
   "metadata": {},
   "outputs": [],
   "source": [
    "def find_maximum(a, b, c):\n",
    "    \"\"\"Returns the maximum of three numbers.\"\"\"\n",
    "    if a >= b and a >= c:\n",
    "        return a  \n",
    "    elif b >= a and b >= c:\n",
    "        return b  \n",
    "    else:\n",
    "        return c  \n"
   ]
  },
  {
   "cell_type": "code",
   "execution_count": 14,
   "id": "111ecc69-f0a0-41dc-9deb-29a20921067b",
   "metadata": {},
   "outputs": [
    {
     "data": {
      "text/plain": [
       "9"
      ]
     },
     "execution_count": 14,
     "metadata": {},
     "output_type": "execute_result"
    }
   ],
   "source": [
    "find_maximum(5,4,9)"
   ]
  },
  {
   "cell_type": "markdown",
   "id": "dae4b687-ef29-476b-b53d-b802c1eb1e1c",
   "metadata": {},
   "source": [
    "# 2."
   ]
  },
  {
   "cell_type": "code",
   "execution_count": 39,
   "id": "c7005a15-fe4e-437e-8cee-3c245ae4b333",
   "metadata": {},
   "outputs": [
    {
     "name": "stdout",
     "output_type": "stream",
     "text": [
      "The sum of the numbers in the list is: 20\n"
     ]
    }
   ],
   "source": [
    "def sum_list(numbers):\n",
    "    \"\"\"Returns the sum of all numbers in the list.\"\"\"\n",
    "    total = sum(numbers)  \n",
    "    return total\n",
    "sample_list = (8, 2, 3, 0, 7)\n",
    "result = sum_list(sample_list)\n",
    "print(\"The sum of the numbers in the list is:\", result)\n"
   ]
  },
  {
   "cell_type": "markdown",
   "id": "bee91955-74ff-427b-8ad5-9c4b6a3cde3a",
   "metadata": {},
   "source": [
    "# 3."
   ]
  },
  {
   "cell_type": "code",
   "execution_count": 42,
   "id": "6615b923-1e09-488e-8936-c1feceac2ec2",
   "metadata": {},
   "outputs": [
    {
     "name": "stdout",
     "output_type": "stream",
     "text": [
      "The product of the numbers in the list is: -336\n"
     ]
    }
   ],
   "source": [
    "def multiply_list(numbers):\n",
    "    \"\"\"Returns the product of all numbers in the list.\"\"\"\n",
    "    result = 1  \n",
    "    for num in numbers: \n",
    "        result *= num \n",
    "    return result\n",
    "sample_list = (8, 2, 3, -1, 7)\n",
    "result = multiply_list(sample_list)\n",
    "print(\"The product of the numbers in the list is:\", result)\n"
   ]
  },
  {
   "cell_type": "markdown",
   "id": "94a5fbf9-0709-4d37-a392-105d6b152f2e",
   "metadata": {},
   "source": [
    "# 4."
   ]
  },
  {
   "cell_type": "code",
   "execution_count": 55,
   "id": "ad7733e4-66af-4297-8262-f0e8171b4c10",
   "metadata": {},
   "outputs": [
    {
     "name": "stdout",
     "output_type": "stream",
     "text": [
      "The reversed string is: dcba4321\n"
     ]
    }
   ],
   "source": [
    "def reverse_string(s):\n",
    "    \"\"\"Returns the reverse of the given string.\"\"\"\n",
    "    return s[::-1]  \n",
    "sample_string = \"1234abcd\"\n",
    "reversed_string = reverse_string(sample_string)\n",
    "print(\"The reversed string is:\", reversed_string)\n"
   ]
  },
  {
   "cell_type": "markdown",
   "id": "a4736685-708d-4e59-a79f-b8e1a40dda85",
   "metadata": {},
   "source": [
    "# 5."
   ]
  },
  {
   "cell_type": "code",
   "execution_count": 17,
   "id": "8f394527-7272-4cef-a843-40c65af04b01",
   "metadata": {},
   "outputs": [],
   "source": [
    "def factorial(n):\n",
    "    \"\"\"Returns the factorial of a non-negative integer n.\"\"\"\n",
    "    if n < 0:  \n",
    "        return \"Factorial is not defined for negative numbers.\"\n",
    "    elif n == 0 or n == 1:\n",
    "        return 1\n",
    "    else:\n",
    "        result = 1\n",
    "        for i in range(1, n + 1):  \n",
    "            result *= i  \n",
    "        return result\n"
   ]
  },
  {
   "cell_type": "code",
   "execution_count": 99,
   "id": "5257a6f4-ee32-4cea-a46b-b132c7f0295d",
   "metadata": {},
   "outputs": [
    {
     "data": {
      "text/plain": [
       "1"
      ]
     },
     "execution_count": 99,
     "metadata": {},
     "output_type": "execute_result"
    }
   ],
   "source": [
    "factorial(1)"
   ]
  },
  {
   "cell_type": "markdown",
   "id": "c48a77fc-189a-44ca-9c7d-5e1b029c50e7",
   "metadata": {},
   "source": [
    "# 6."
   ]
  },
  {
   "cell_type": "code",
   "execution_count": 103,
   "id": "3e8fcbde-e66c-4513-adc4-4a3268deda60",
   "metadata": {},
   "outputs": [
    {
     "name": "stdout",
     "output_type": "stream",
     "text": [
      "5 is within the range [1, 10].\n"
     ]
    }
   ],
   "source": [
    "def is_in_range(number, start, end):\n",
    "    \"\"\"Checks if a number is within the given range [start, end].\"\"\"\n",
    "    return start <= number <= end  \n",
    "number = 5\n",
    "start = 1\n",
    "end = 10\n",
    "\n",
    "if is_in_range(number, start, end):\n",
    "    print(f\"{number} is within the range [{start}, {end}].\")\n",
    "else:\n",
    "    print(f\"{number} is not within the range [{start}, {end}].\")\n"
   ]
  },
  {
   "cell_type": "markdown",
   "id": "187bed7e-36ed-4ae3-9b54-7922980fa894",
   "metadata": {},
   "source": [
    "# 7."
   ]
  },
  {
   "cell_type": "code",
   "execution_count": 65,
   "id": "75f8414c-5a3e-4923-af6f-475f553efd80",
   "metadata": {},
   "outputs": [
    {
     "name": "stdout",
     "output_type": "stream",
     "text": [
      "No. of Upper case characters : 4\n",
      "No. of Lower case Characters : 12\n"
     ]
    }
   ],
   "source": [
    "def count_case(s):\n",
    "    \"\"\"Counts the number of uppercase and lowercase letters in a string.\"\"\"\n",
    "    upper_count = 0  \n",
    "    lower_count = 0  \n",
    "    \n",
    "    for char in s:  \n",
    "        if char.isupper():  \n",
    "            upper_count += 1\n",
    "        elif char.islower():  \n",
    "            lower_count += 1\n",
    "    \n",
    "    return upper_count, lower_count\n",
    "\n",
    "sample_string = 'The Quick Brown Fox'\n",
    "\n",
    "upper_count, lower_count = count_case(sample_string)\n",
    "\n",
    "print(f\"No. of Upper case characters : {upper_count}\")\n",
    "print(f\"No. of Lower case Characters : {lower_count}\")\n"
   ]
  },
  {
   "cell_type": "markdown",
   "id": "1413f8ad-e572-465a-bacd-bced4bc82c6d",
   "metadata": {},
   "source": [
    "# 8."
   ]
  },
  {
   "cell_type": "code",
   "execution_count": 68,
   "id": "43e88449-b954-4a4d-a0af-6c886fca1a21",
   "metadata": {},
   "outputs": [
    {
     "name": "stdout",
     "output_type": "stream",
     "text": [
      "Unique List: [1, 2, 3, 4, 5]\n"
     ]
    }
   ],
   "source": [
    "def get_unique_elements(lst):\n",
    "    \"\"\"Returns a new list with distinct elements from the given list.\"\"\"\n",
    "    unique_lst = list(set(lst))  \n",
    "    return unique_lst\n",
    "    \n",
    "sample_list = [1, 2, 3, 3, 3, 3, 4, 5]\n",
    "\n",
    "unique_list = get_unique_elements(sample_list)\n",
    "\n",
    "print(\"Unique List:\", unique_list)\n"
   ]
  },
  {
   "cell_type": "markdown",
   "id": "d22f629b-fad1-4129-afd3-22449bed821f",
   "metadata": {},
   "source": [
    "# 9."
   ]
  },
  {
   "cell_type": "code",
   "execution_count": 75,
   "id": "5cc38063-6b72-471f-a0f0-9d9e843e2a5b",
   "metadata": {},
   "outputs": [
    {
     "name": "stdout",
     "output_type": "stream",
     "text": [
      "17 is a prime number.\n"
     ]
    }
   ],
   "source": [
    "def is_prime(number):\n",
    "    \"\"\"Checks if a number is prime.\"\"\"\n",
    "    if number <= 1:  \n",
    "        return False\n",
    "    for i in range(2, int(number ** 0.5) + 1):  \n",
    "        if number % i == 0:  \n",
    "            return False\n",
    "    return True  \n",
    "\n",
    "num = 17\n",
    "if is_prime(num):\n",
    "    print(f\"{num} is a prime number.\")\n",
    "else:\n",
    "    print(f\"{num} is not a prime number.\")\n"
   ]
  },
  {
   "cell_type": "markdown",
   "id": "8f8fc7b3-5a2b-4530-b309-215fe2c8ed8a",
   "metadata": {},
   "source": [
    "# 10. "
   ]
  },
  {
   "cell_type": "code",
   "execution_count": 78,
   "id": "742a3d4b-ba7a-4601-95e1-f6f3379e3e03",
   "metadata": {},
   "outputs": [
    {
     "name": "stdout",
     "output_type": "stream",
     "text": [
      "[2, 4, 6, 8]\n"
     ]
    }
   ],
   "source": [
    "sample_list = [1, 2, 3, 4, 5, 6, 7, 8, 9]\n",
    "even_numbers = [num for num in sample_list if num % 2 == 0]\n",
    "print(even_numbers)"
   ]
  },
  {
   "cell_type": "markdown",
   "id": "8ab7f685-1a15-461f-acbe-e49795b29fb6",
   "metadata": {},
   "source": [
    "# 11."
   ]
  },
  {
   "cell_type": "code",
   "execution_count": 91,
   "id": "4b16ac86-39b3-42d7-b53d-46f08be6296e",
   "metadata": {},
   "outputs": [
    {
     "name": "stdout",
     "output_type": "stream",
     "text": [
      "28 is a perfect number!\n"
     ]
    }
   ],
   "source": [
    "def is_perfect_number(num):\n",
    "    \"\"\"\n",
    "    Check if a number is a perfect number.\n",
    "\n",
    "    Parameters:\n",
    "        num (int): The number to check.\n",
    "\n",
    "    Returns:\n",
    "        bool: True if the number is perfect, False otherwise.\n",
    "    \"\"\"\n",
    "    if num < 1:\n",
    "        return False\n",
    "\n",
    "    divisors_sum = sum(i for i in range(1, num) if num % i == 0)\n",
    "\n",
    "    return divisors_sum == num\n",
    "\n",
    "number = 28\n",
    "if is_perfect_number(number):\n",
    "    print(f\"{number} is a perfect number!\")\n",
    "else:\n",
    "    print(f\"{number} is not a perfect number.\")\n"
   ]
  },
  {
   "cell_type": "code",
   "execution_count": 93,
   "id": "29a11cd2-cb5d-420e-8945-d26180dc91e7",
   "metadata": {},
   "outputs": [
    {
     "data": {
      "text/plain": [
       "True"
      ]
     },
     "execution_count": 93,
     "metadata": {},
     "output_type": "execute_result"
    }
   ],
   "source": [
    "is_perfect_number(6)"
   ]
  },
  {
   "cell_type": "markdown",
   "id": "74a69bcc-898e-45eb-971b-7a2608b23923",
   "metadata": {},
   "source": [
    "# 12."
   ]
  },
  {
   "cell_type": "code",
   "execution_count": 96,
   "id": "bd311ddb-50c5-4a4b-b0d7-2ab763c0c20f",
   "metadata": {},
   "outputs": [
    {
     "name": "stdout",
     "output_type": "stream",
     "text": [
      "'Too hot to hoot' is a palindrome!\n"
     ]
    }
   ],
   "source": [
    "def is_palindrome(s):\n",
    "    \"\"\"\n",
    "    Check if a string is a palindrome.\n",
    "\n",
    "    Parameters:\n",
    "        s (str): The string to check.\n",
    "\n",
    "    Returns:\n",
    "        bool: True if the string is a palindrome, False otherwise.\n",
    "    \"\"\"\n",
    "    s = s.replace(\" \", \"\").lower()\n",
    "\n",
    "    return s == s[::-1]\n",
    "\n",
    "string = \"Too hot to hoot\"\n",
    "if is_palindrome(string):\n",
    "    print(f\"'{string}' is a palindrome!\")\n",
    "else:\n",
    "    print(f\"'{string}' is not a palindrome.\")\n"
   ]
  }
 ],
 "metadata": {
  "kernelspec": {
   "display_name": "Python 3 (ipykernel)",
   "language": "python",
   "name": "python3"
  },
  "language_info": {
   "codemirror_mode": {
    "name": "ipython",
    "version": 3
   },
   "file_extension": ".py",
   "mimetype": "text/x-python",
   "name": "python",
   "nbconvert_exporter": "python",
   "pygments_lexer": "ipython3",
   "version": "3.12.7"
  }
 },
 "nbformat": 4,
 "nbformat_minor": 5
}

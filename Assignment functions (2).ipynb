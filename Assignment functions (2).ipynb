{
 "cells": [
  {
   "cell_type": "markdown",
   "id": "a736e536-8b75-4768-abff-0a9bc102ef74",
   "metadata": {},
   "source": [
    "# Task 1:"
   ]
  },
  {
   "cell_type": "code",
   "execution_count": 3,
   "id": "f20159c6-80b4-4bdb-91d2-4dfb81d298ff",
   "metadata": {},
   "outputs": [
    {
     "name": "stdout",
     "output_type": "stream",
     "text": [
      "2002,2009,2016,2023,2037,2044,2051,2058,2072,2079,2086,2093,2107,2114,2121,2128,2142,2149,2156,2163,2177,2184,2191,2198,2212,2219,2226,2233,2247,2254,2261,2268,2282,2289,2296,2303,2317,2324,2331,2338,2352,2359,2366,2373,2387,2394,2401,2408,2422,2429,2436,2443,2457,2464,2471,2478,2492,2499,2506,2513,2527,2534,2541,2548,2562,2569,2576,2583,2597,2604,2611,2618,2632,2639,2646,2653,2667,2674,2681,2688,2702,2709,2716,2723,2737,2744,2751,2758,2772,2779,2786,2793,2807,2814,2821,2828,2842,2849,2856,2863,2877,2884,2891,2898,2912,2919,2926,2933,2947,2954,2961,2968,2982,2989,2996,3003,3017,3024,3031,3038,3052,3059,3066,3073,3087,3094,3101,3108,3122,3129,3136,3143,3157,3164,3171,3178,3192,3199\n"
     ]
    }
   ],
   "source": [
    "def find_numbers():\n",
    "    result = []\n",
    "    for number in range(2000, 3201):\n",
    "        if number % 7 == 0 and number % 5 != 0:\n",
    "            result.append(str(number))\n",
    "    return \",\".join(result)\n",
    "\n",
    "print(find_numbers())\n"
   ]
  },
  {
   "cell_type": "markdown",
   "id": "4930872a-04c5-4540-a6e1-545fb62224dd",
   "metadata": {},
   "source": [
    "# Task 2:"
   ]
  },
  {
   "cell_type": "code",
   "execution_count": 8,
   "id": "bef6b794-bcd2-413f-b5af-df5ff58e055f",
   "metadata": {},
   "outputs": [
    {
     "name": "stdin",
     "output_type": "stream",
     "text": [
      "Enter the values of C (comma-separated):  5\n"
     ]
    },
    {
     "name": "stdout",
     "output_type": "stream",
     "text": [
      "Calculated values: [24.49]\n"
     ]
    }
   ],
   "source": [
    "import math\n",
    "\n",
    "def calculate_values():\n",
    "    A = 50\n",
    "    B = 30\n",
    "    \n",
    "    c_values = input(\"Enter the values of C (comma-separated): \")\n",
    "    \n",
    "    results = []\n",
    "    for c in c_values.split(\",\"):\n",
    "        try:\n",
    "            C = float(c.strip())  \n",
    "            P = math.sqrt((2 * A * B) / C)  \n",
    "            results.append(round(P, 2))\n",
    "        except ValueError:\n",
    "            print(f\"Invalid value '{c}'. Skipping...\")\n",
    "        except ZeroDivisionError:\n",
    "            print(f\"Value of C cannot be zero. Skipping...\")\n",
    "    \n",
    "    return results\n",
    "\n",
    "output = calculate_values()\n",
    "print(\"Calculated values:\", output)\n"
   ]
  },
  {
   "cell_type": "markdown",
   "id": "286e428a-ce18-4000-8e0d-83c6f06d299d",
   "metadata": {},
   "source": [
    "# Task 3:"
   ]
  },
  {
   "cell_type": "code",
   "execution_count": 11,
   "id": "530eb069-9699-46b0-a877-6e107d84f372",
   "metadata": {},
   "outputs": [
    {
     "name": "stdin",
     "output_type": "stream",
     "text": [
      "Enter a comma-separated sequence of words:  without,hello,bag,world\n"
     ]
    },
    {
     "name": "stdout",
     "output_type": "stream",
     "text": [
      "bag,hello,without,world\n"
     ]
    }
   ],
   "source": [
    "def sort_words():\n",
    "    words = input(\"Enter a comma-separated sequence of words: \")\n",
    "    \n",
    "    word_list = words.split(\",\")\n",
    "    \n",
    "    word_list.sort()\n",
    "    \n",
    "    sorted_words = \",\".join(word_list)\n",
    "    \n",
    "    print(sorted_words)\n",
    "\n",
    "sort_words()\n"
   ]
  },
  {
   "cell_type": "markdown",
   "id": "76536c46-ed84-423e-a4a8-11464f77a5d8",
   "metadata": {},
   "source": [
    "# Task 4:"
   ]
  },
  {
   "cell_type": "code",
   "execution_count": 16,
   "id": "f69e9bd6-7847-4a23-8a72-6184186882ac",
   "metadata": {},
   "outputs": [
    {
     "name": "stdout",
     "output_type": "stream",
     "text": [
      "Enter your lines (press Enter on an empty line to stop):\n"
     ]
    },
    {
     "name": "stdin",
     "output_type": "stream",
     "text": [
      " hello world\n",
      " practice makes perfect\n",
      " \n"
     ]
    },
    {
     "name": "stdout",
     "output_type": "stream",
     "text": [
      "\n",
      "Output:\n",
      "HELLO WORLD\n",
      "PRACTICE MAKES PERFECT\n"
     ]
    }
   ],
   "source": [
    "def capitalize_lines():\n",
    "    print(\"Enter your lines (press Enter on an empty line to stop):\")\n",
    "    \n",
    "    lines = []\n",
    "    while True:\n",
    "        line = input()\n",
    "        if not line:  \n",
    "            break\n",
    "        lines.append(line.upper()) \n",
    "    \n",
    "    print(\"\\nOutput:\")\n",
    "    for line in lines:\n",
    "        print(line)\n",
    "\n",
    "capitalize_lines()\n"
   ]
  },
  {
   "cell_type": "markdown",
   "id": "f4a3ccf0-43af-4574-bc60-41ca2fc25c0b",
   "metadata": {},
   "source": [
    "# Task 5:"
   ]
  },
  {
   "cell_type": "code",
   "execution_count": 23,
   "id": "40e541fb-9c18-4d7d-b32b-76220692b04d",
   "metadata": {},
   "outputs": [
    {
     "name": "stdout",
     "output_type": "stream",
     "text": [
      "Enter your lines (press Enter on an empty line to stop):\n"
     ]
    },
    {
     "name": "stdin",
     "output_type": "stream",
     "text": [
      " Hello world\n",
      " practice makes perfect\n",
      " \n"
     ]
    },
    {
     "name": "stdout",
     "output_type": "stream",
     "text": [
      "a appeared 2 times\n",
      "e appeared 5 times\n",
      "i appeared 1 time\n",
      "o appeared 2 times\n",
      "u appeared 0 times\n"
     ]
    }
   ],
   "source": [
    "def count_vowels():\n",
    "    print(\"Enter your lines (press Enter on an empty line to stop):\")\n",
    "    \n",
    "    lines = []\n",
    "    while True:\n",
    "        line = input()\n",
    "        if not line:\n",
    "            break\n",
    "        lines.append(line)\n",
    "    \n",
    "    sentence = \" \".join(lines)\n",
    "    \n",
    "    vowels = \"aeiou\"\n",
    "    \n",
    "    vowel_count = {vowel: 0 for vowel in vowels}\n",
    "    \n",
    "    for char in sentence.lower():\n",
    "        if char in vowels:\n",
    "            vowel_count[char] += 1\n",
    "\n",
    "    \n",
    "    for vowel, count in vowel_count.items():\n",
    "        print(f\"{vowel} appeared {count} {'times' if count != 1 else 'time'}\")\n",
    "\n",
    "count_vowels()\n",
    "T"
   ]
  },
  {
   "cell_type": "markdown",
   "id": "7a3437e1-ff1d-49d8-a32a-3fdc2de9ca4c",
   "metadata": {},
   "source": [
    "# Task 6:"
   ]
  },
  {
   "cell_type": "code",
   "execution_count": 28,
   "id": "ff0e2091-885c-43ad-9141-ab9c39e85f11",
   "metadata": {},
   "outputs": [
    {
     "name": "stdout",
     "output_type": "stream",
     "text": [
      "Numbers with all even digits: [2000, 2002, 2004, 2006, 2008, 2020, 2022, 2024, 2026, 2028, 2040, 2042, 2044, 2046, 2048, 2060, 2062, 2064, 2066, 2068, 2080, 2082, 2084, 2086, 2088, 2200, 2202, 2204, 2206, 2208, 2220, 2222, 2224, 2226, 2228, 2240, 2242, 2244, 2246, 2248, 2260, 2262, 2264, 2266, 2268, 2280, 2282, 2284, 2286, 2288, 2400, 2402, 2404, 2406, 2408, 2420, 2422, 2424, 2426, 2428, 2440, 2442, 2444, 2446, 2448, 2460, 2462, 2464, 2466, 2468, 2480, 2482, 2484, 2486, 2488, 2600, 2602, 2604, 2606, 2608, 2620, 2622, 2624, 2626, 2628, 2640, 2642, 2644, 2646, 2648, 2660, 2662, 2664, 2666, 2668, 2680, 2682, 2684, 2686, 2688, 2800, 2802, 2804, 2806, 2808, 2820, 2822, 2824, 2826, 2828, 2840, 2842, 2844, 2846, 2848, 2860, 2862, 2864, 2866, 2868, 2880, 2882, 2884, 2886, 2888]\n"
     ]
    }
   ],
   "source": [
    "def find_even_digit_numbers():\n",
    "    even_digit_numbers = []\n",
    "    \n",
    "    for number in range(1000, 3001):\n",
    "        str_number = str(number)\n",
    "        \n",
    "        if all(int(digit) % 2 == 0 for digit in str_number):\n",
    "            even_digit_numbers.append(number)\n",
    "    \n",
    "    return even_digit_numbers\n",
    "\n",
    "result = find_even_digit_numbers()\n",
    "print(\"Numbers with all even digits:\", result)\n"
   ]
  },
  {
   "cell_type": "markdown",
   "id": "e6c27450-f3ea-4cc1-816e-c91e95101217",
   "metadata": {},
   "source": [
    "# Task 7:"
   ]
  },
  {
   "cell_type": "code",
   "execution_count": 33,
   "id": "4392a5f8-de35-446c-9b8d-0d0ade057737",
   "metadata": {},
   "outputs": [
    {
     "name": "stdin",
     "output_type": "stream",
     "text": [
      "Enter a comma-separated sequence of 4-digit binary numbers:  0100,0011,1010,1001\n"
     ]
    },
    {
     "name": "stdout",
     "output_type": "stream",
     "text": [
      "1010\n"
     ]
    }
   ],
   "source": [
    "def check_divisible_by_5():\n",
    "    binary_numbers = input(\"Enter a comma-separated sequence of 4-digit binary numbers: \")\n",
    "    \n",
    "    binary_list = binary_numbers.split(\",\")\n",
    "    \n",
    "    divisible_by_5 = []\n",
    "    \n",
    "    for binary in binary_list:\n",
    "        decimal = int(binary, 2)\n",
    "        \n",
    "        if decimal % 5 == 0:\n",
    "            divisible_by_5.append(binary)\n",
    "    \n",
    "    print(\",\".join(divisible_by_5))\n",
    "\n",
    "check_divisible_by_5()\n"
   ]
  },
  {
   "cell_type": "markdown",
   "id": "b4642dad-728d-4a0a-a13e-37ac0b6d68d2",
   "metadata": {},
   "source": [
    "# Task 8:"
   ]
  },
  {
   "cell_type": "code",
   "execution_count": 38,
   "id": "4902b6e8-2791-4646-b669-55575eadad19",
   "metadata": {},
   "outputs": [
    {
     "name": "stdin",
     "output_type": "stream",
     "text": [
      "Enter a sentence:  hello world! 123\n"
     ]
    },
    {
     "name": "stdout",
     "output_type": "stream",
     "text": [
      "LETTERS 10\n",
      "DIGITS 3\n"
     ]
    }
   ],
   "source": [
    "def count_letters_and_digits():\n",
    "    sentence = input(\"Enter a sentence: \")\n",
    "    \n",
    "    letters = 0\n",
    "    digits = 0\n",
    "    \n",
    "    for char in sentence:\n",
    "        if char.isalpha():  \n",
    "            letters += 1\n",
    "        elif char.isdigit():  \n",
    "            digits += 1\n",
    "    \n",
    "    print(f\"LETTERS {letters}\")\n",
    "    print(f\"DIGITS {digits}\")\n",
    "\n",
    "count_letters_and_digits()\n"
   ]
  },
  {
   "cell_type": "code",
   "execution_count": null,
   "id": "235e49f0-46e8-401f-9095-d8aab3935514",
   "metadata": {},
   "outputs": [],
   "source": []
  }
 ],
 "metadata": {
  "kernelspec": {
   "display_name": "Python 3 (ipykernel)",
   "language": "python",
   "name": "python3"
  },
  "language_info": {
   "codemirror_mode": {
    "name": "ipython",
    "version": 3
   },
   "file_extension": ".py",
   "mimetype": "text/x-python",
   "name": "python",
   "nbconvert_exporter": "python",
   "pygments_lexer": "ipython3",
   "version": "3.12.7"
  }
 },
 "nbformat": 4,
 "nbformat_minor": 5
}

{
 "cells": [
  {
   "cell_type": "markdown",
   "id": "92158e0c-d137-4e36-b385-f7eb2f96ab7f",
   "metadata": {},
   "source": [
    "<style>\n",
    "body {\n",
    "    font-size: 18px;\n",
    "}\n",
    "</style>\n"
   ]
  },
  {
   "cell_type": "markdown",
   "id": "a4d4eb19-4906-4357-9cd5-308809709490",
   "metadata": {},
   "source": [
    "<style>\n",
    "body {\n",
    "    font-size: 18px;\n",
    "}\n",
    "</style>\n"
   ]
  },
  {
   "cell_type": "markdown",
   "id": "a523eb8f-ca4d-4d58-991f-b0470dbb2823",
   "metadata": {},
   "source": [
    "### 1) Area of rectangle:"
   ]
  },
  {
   "cell_type": "code",
   "execution_count": 2,
   "id": "772eb816-a8f1-4532-b651-751ba1650010",
   "metadata": {},
   "outputs": [
    {
     "name": "stdin",
     "output_type": "stream",
     "text": [
      "Enter the length of the rectangle:  6\n",
      "Enter the width of the rectangle:  3\n"
     ]
    },
    {
     "name": "stdout",
     "output_type": "stream",
     "text": [
      "The area of rectangle is 18.0\n"
     ]
    }
   ],
   "source": [
    "length = float(input('Enter the length of the rectangle: '))\n",
    "width = float(input('Enter the width of the rectangle: '))\n",
    "area = length*width\n",
    "print(f'The area of rectangle is {area}')"
   ]
  },
  {
   "cell_type": "markdown",
   "id": "f9d039c0-7a1c-4244-8b5f-50d8c2997baa",
   "metadata": {},
   "source": [
    "### 2) Circumference of a circle:"
   ]
  },
  {
   "cell_type": "code",
   "execution_count": 4,
   "id": "ac0f2393-3f83-4ba8-9dba-a1f451476a4e",
   "metadata": {},
   "outputs": [
    {
     "name": "stdin",
     "output_type": "stream",
     "text": [
      "Enter the radius of the circle:  2\n"
     ]
    },
    {
     "name": "stdout",
     "output_type": "stream",
     "text": [
      "The circumference of circle is 12.56636\n"
     ]
    }
   ],
   "source": [
    "radius = float(input('Enter the radius of the circle: '))\n",
    "circumference = 2*3.14159*radius\n",
    "print(f'The circumference of circle is {circumference}')"
   ]
  },
  {
   "cell_type": "markdown",
   "id": "d80c099e-ab55-458c-a20e-091ad1fefc0e",
   "metadata": {},
   "source": [
    "### 3) Simple interest:"
   ]
  },
  {
   "cell_type": "code",
   "execution_count": 85,
   "id": "0a6a9343-c4ad-4c07-89a6-283698f7fcfc",
   "metadata": {},
   "outputs": [
    {
     "name": "stdin",
     "output_type": "stream",
     "text": [
      "Enter the principal amount (P):  1000\n",
      "Enter the annual interest rate (r) as a decimal:  0.05\n",
      "Enter the time period (t) in years:  3\n"
     ]
    },
    {
     "name": "stdout",
     "output_type": "stream",
     "text": [
      "The simple interest is: 150.0 units of currency.\n"
     ]
    }
   ],
   "source": [
    "P = float(input(\"Enter the principal amount (P): \"))\n",
    "r = float(input(\"Enter the annual interest rate (r) as a decimal: \"))\n",
    "t = float(input(\"Enter the time period (t) in years: \"))\n",
    "SI = P * r * t\n",
    "print(f\"The simple interest is: {SI} units of currency.\")\n"
   ]
  },
  {
   "cell_type": "markdown",
   "id": "173fdbf9-cbb3-4939-ab43-6a3e5f9aff55",
   "metadata": {},
   "source": [
    "### 4) Speed of an object:"
   ]
  },
  {
   "cell_type": "code",
   "execution_count": 10,
   "id": "42b8be40-256f-478f-a570-39ff89fccc7c",
   "metadata": {},
   "outputs": [
    {
     "name": "stdin",
     "output_type": "stream",
     "text": [
      "Enter the distance covered(in meters):  100\n",
      "Enter the time taken (in seconds):  20\n"
     ]
    },
    {
     "name": "stdout",
     "output_type": "stream",
     "text": [
      "The speed of the object is 5.0 meters per second\n"
     ]
    }
   ],
   "source": [
    "distance = float(input('Enter the distance covered(in meters): '))\n",
    "time = float(input('Enter the time taken (in seconds): '))\n",
    "speed = distance/time\n",
    "print(f'The speed of the object is {speed} meters per second')"
   ]
  },
  {
   "cell_type": "markdown",
   "id": "2dde6ccc-7917-4e8a-9f75-f6f9203bc098",
   "metadata": {},
   "source": [
    "### 5) BMI calculator:"
   ]
  },
  {
   "cell_type": "code",
   "execution_count": 19,
   "id": "e7ab9510-65b0-46ec-9a59-d43e579c71e3",
   "metadata": {},
   "outputs": [
    {
     "name": "stdin",
     "output_type": "stream",
     "text": [
      "Enter your weight (in kg):  70\n",
      "Enter your height (in meters):  1.7\n"
     ]
    },
    {
     "name": "stdout",
     "output_type": "stream",
     "text": [
      "Your BMI is: 24.22\n"
     ]
    }
   ],
   "source": [
    "weight = float(input(\"Enter your weight (in kg): \"))\n",
    "height = float(input(\"Enter your height (in meters): \"))\n",
    "bmi = weight / height**2\n",
    "print(f\"Your BMI is: {bmi:.2f}\")\n"
   ]
  },
  {
   "cell_type": "markdown",
   "id": "bd33fad1-66dd-40fd-8cc6-4229b944b423",
   "metadata": {},
   "source": [
    "### 6) Force using Newton's second law:"
   ]
  },
  {
   "cell_type": "code",
   "execution_count": 24,
   "id": "6b544614-7486-4f40-98c7-658e5ddcd542",
   "metadata": {},
   "outputs": [
    {
     "name": "stdin",
     "output_type": "stream",
     "text": [
      "Enter the mass of the object (in kg):  8\n",
      "Enter the acceleration (in m/s²):  10\n"
     ]
    },
    {
     "name": "stdout",
     "output_type": "stream",
     "text": [
      "The force acting on the object is: 80.0 newtons.\n"
     ]
    }
   ],
   "source": [
    "mass = float(input(\"Enter the mass of the object (in kg): \"))\n",
    "acceleration = float(input(\"Enter the acceleration (in m/s²): \"))\n",
    "force = mass * acceleration\n",
    "print(f\"The force acting on the object is: {force} newtons.\")\n"
   ]
  },
  {
   "cell_type": "markdown",
   "id": "8431116f-6595-483c-9445-e99903644d08",
   "metadata": {},
   "source": [
    "### 7) Compound interest:"
   ]
  },
  {
   "cell_type": "code",
   "execution_count": 83,
   "id": "5643540a-e685-4dda-8df0-7aed91d6c994",
   "metadata": {},
   "outputs": [
    {
     "name": "stdin",
     "output_type": "stream",
     "text": [
      "Enter the principal amount (P):  1000\n",
      "Enter the annual interest rate (in decimal, e.g., 0.05 for 5%):  0.05\n",
      "Enter the number of times interest is compounded per year (n):  4\n",
      "Enter the time in years (t):  2\n"
     ]
    },
    {
     "name": "stdout",
     "output_type": "stream",
     "text": [
      "The total amount after 2.0 years is: 1104.49\n",
      "The compound interest earned is: 104.49\n"
     ]
    }
   ],
   "source": [
    "P = float(input(\"Enter the principal amount (P): \"))\n",
    "r = float(input(\"Enter the annual interest rate (in decimal, e.g., 0.05 for 5%): \"))\n",
    "n = int(input(\"Enter the number of times interest is compounded per year (n): \"))\n",
    "t = float(input(\"Enter the time in years (t): \"))\n",
    "A = P * (1 + r / n)**(n * t)\n",
    "compound_interest = A - P\n",
    "print(f\"The total amount after {t} years is: {A:.2f}\")\n",
    "print(f\"The compound interest earned is: {compound_interest:.2f}\")\n"
   ]
  },
  {
   "cell_type": "markdown",
   "id": "bc6ecd30-6f05-4da5-a755-120088ef3336",
   "metadata": {},
   "source": [
    "### 8) Perimeter of a triangle:"
   ]
  },
  {
   "cell_type": "code",
   "execution_count": 35,
   "id": "de6a8d85-8451-42de-8dec-ac280c7eb7d4",
   "metadata": {},
   "outputs": [
    {
     "name": "stdin",
     "output_type": "stream",
     "text": [
      "Enter the length of side a:  5\n",
      "Enter the length of side b:  5\n",
      "Enter the length of side c:  5\n"
     ]
    },
    {
     "name": "stdout",
     "output_type": "stream",
     "text": [
      "The perimeter of the triangle is: 15.0\n"
     ]
    }
   ],
   "source": [
    "a = float(input(\"Enter the length of side a: \"))\n",
    "b = float(input(\"Enter the length of side b: \"))\n",
    "c = float(input(\"Enter the length of side c: \"))\n",
    "perimeter = a + b + c\n",
    "print(f\"The perimeter of the triangle is: {perimeter}\")\n"
   ]
  },
  {
   "cell_type": "markdown",
   "id": "4535fd0d-7ffb-485e-b062-aedd2abd2e95",
   "metadata": {},
   "source": [
    "### 9) Volume of a sphere:"
   ]
  },
  {
   "cell_type": "code",
   "execution_count": 42,
   "id": "6cf47ad9-50d0-4496-b1d4-9e01ad5d5af4",
   "metadata": {},
   "outputs": [
    {
     "name": "stdin",
     "output_type": "stream",
     "text": [
      "Enter the radius of the sphere:  3\n"
     ]
    },
    {
     "name": "stdout",
     "output_type": "stream",
     "text": [
      "The volume of the sphere is: 113.10\n"
     ]
    }
   ],
   "source": [
    "radius = float(input(\"Enter the radius of the sphere: \"))\n",
    "volume = (4/3)*3.14159*radius**3\n",
    "print(f\"The volume of the sphere is: {volume:.2f}\")"
   ]
  },
  {
   "cell_type": "markdown",
   "id": "1be28cf2-e5a0-443b-90a7-8e5972b037ed",
   "metadata": {},
   "source": [
    "### 10) Kinetic energy:"
   ]
  },
  {
   "cell_type": "code",
   "execution_count": 45,
   "id": "9b99d6b0-bd45-4fbb-92b3-7f30a98d1ab2",
   "metadata": {},
   "outputs": [
    {
     "name": "stdin",
     "output_type": "stream",
     "text": [
      "Enter the mass of the object (in kg):  20\n",
      "Enter the velocity of the object (in m/s):  10\n"
     ]
    },
    {
     "name": "stdout",
     "output_type": "stream",
     "text": [
      "The kinetic energy of the object is: 1000.0 joules.\n"
     ]
    }
   ],
   "source": [
    "mass = float(input(\"Enter the mass of the object (in kg): \"))\n",
    "velocity = float(input(\"Enter the velocity of the object (in m/s): \"))\n",
    "kinetic_energy = 0.5 * mass * velocity**2\n",
    "print(f\"The kinetic energy of the object is: {kinetic_energy} joules.\")\n"
   ]
  },
  {
   "cell_type": "markdown",
   "id": "578598d0-4a3b-4c39-a5dc-1728e43c74ec",
   "metadata": {},
   "source": [
    "### 11) Quadratic equation roots:"
   ]
  },
  {
   "cell_type": "code",
   "execution_count": 87,
   "id": "0ba06ac2-ce88-4054-9e10-f98816ca3ca8",
   "metadata": {},
   "outputs": [
    {
     "name": "stdin",
     "output_type": "stream",
     "text": [
      "Enter the coefficient a:  1\n",
      "Enter the coefficient b:  -3\n",
      "Enter the coefficient c:  2\n"
     ]
    },
    {
     "name": "stdout",
     "output_type": "stream",
     "text": [
      "The roots are real and distinct: 2.0 and 1.0\n"
     ]
    }
   ],
   "source": [
    "import math\n",
    "a = float(input(\"Enter the coefficient a: \"))\n",
    "b = float(input(\"Enter the coefficient b: \"))\n",
    "c = float(input(\"Enter the coefficient c: \"))\n",
    "\n",
    "discriminant = b**2 - 4*a*c\n",
    "\n",
    "if discriminant > 0:\n",
    "    root1 = (-b + math.sqrt(discriminant)) / (2 * a)\n",
    "    root2 = (-b - math.sqrt(discriminant)) / (2 * a)\n",
    "    print(f\"The roots are real and distinct: {root1} and {root2}\")\n",
    "elif discriminant == 0:\n",
    "    root = -b / (2 * a)\n",
    "    print(f\"The root is real and repeated: {root}\")\n",
    "else:\n",
    "    real_part = -b / (2 * a)\n",
    "    imaginary_part = math.sqrt(-discriminant) / (2 * a)\n",
    "    print(f\"The roots are complex: {real_part} + {imaginary_part}i and {real_part} - {imaginary_part}i\")\n"
   ]
  },
  {
   "cell_type": "markdown",
   "id": "5d299f81-09c9-4734-974e-9fbc45137624",
   "metadata": {},
   "source": [
    "### 12) Temperature conversion:"
   ]
  },
  {
   "cell_type": "code",
   "execution_count": 49,
   "id": "10aa77b8-ff64-49ed-aea7-8cb57f068873",
   "metadata": {},
   "outputs": [
    {
     "name": "stdin",
     "output_type": "stream",
     "text": [
      "Enter the temperature in Celsius:  25\n"
     ]
    },
    {
     "name": "stdout",
     "output_type": "stream",
     "text": [
      "25.0°C = 77.0°F\n"
     ]
    }
   ],
   "source": [
    "celsius = float(input(\"Enter the temperature in Celsius: \"))\n",
    "fahrenheit = (9/5) * celsius + 32\n",
    "print(f\"{celsius}°C = {fahrenheit}°F\")\n"
   ]
  },
  {
   "cell_type": "markdown",
   "id": "a8f98626-856a-4fbf-96e4-0d06a7e66344",
   "metadata": {},
   "source": [
    "### 13) Gravitational force:"
   ]
  },
  {
   "cell_type": "code",
   "execution_count": 60,
   "id": "5fcce2c9-f692-41bc-9593-f1e00a817be8",
   "metadata": {},
   "outputs": [
    {
     "name": "stdin",
     "output_type": "stream",
     "text": [
      "Enter the mass of the first object (in kg):  5.97e24\n",
      "Enter the mass of the second object (in kg):  7.35e22\n",
      "Enter the distance between the objects (in meters):  3.84e8\n"
     ]
    },
    {
     "name": "stdout",
     "output_type": "stream",
     "text": [
      "The gravitational force between the objects is: 1.99e+20 newtons.\n"
     ]
    }
   ],
   "source": [
    "G = 6.67430e-11\n",
    "m1 = float(input(\"Enter the mass of the first object (in kg): \"))\n",
    "m2 = float(input(\"Enter the mass of the second object (in kg): \"))\n",
    "r = float(input(\"Enter the distance between the objects (in meters): \"))\n",
    "force = G * (m1 * m2) / r**2\n",
    "print(f\"The gravitational force between the objects is: {force:.2e} newtons.\")\n"
   ]
  },
  {
   "cell_type": "markdown",
   "id": "a091fed6-4bc2-4293-845b-45a244dd07f8",
   "metadata": {},
   "source": [
    "### 14) Volume of a cylinder:"
   ]
  },
  {
   "cell_type": "code",
   "execution_count": 63,
   "id": "809e80ae-c0a5-4595-b3b8-0c5d1e2e51c3",
   "metadata": {},
   "outputs": [
    {
     "name": "stdin",
     "output_type": "stream",
     "text": [
      "Enter the radius of the cylinder (in meters):  4\n",
      "Enter the height of the cylinder (in meters):  8\n"
     ]
    },
    {
     "name": "stdout",
     "output_type": "stream",
     "text": [
      "The volume of the cylinder is: 402.12352 cubic meters.\n"
     ]
    }
   ],
   "source": [
    "radius = float(input(\"Enter the radius of the cylinder (in meters): \"))\n",
    "height = float(input(\"Enter the height of the cylinder (in meters): \"))\n",
    "volume = 3.14159* radius**2 * height\n",
    "print(f\"The volume of the cylinder is: {volume} cubic meters.\")\n"
   ]
  },
  {
   "cell_type": "markdown",
   "id": "2bae8e02-82c3-4f3e-b725-27b03b26502a",
   "metadata": {},
   "source": [
    "### 15) Pressure:"
   ]
  },
  {
   "cell_type": "code",
   "execution_count": 66,
   "id": "23744c46-1e1a-48a9-afa1-8f84b14877de",
   "metadata": {},
   "outputs": [
    {
     "name": "stdin",
     "output_type": "stream",
     "text": [
      "Enter the force applied (in newtons):  50\n",
      "Enter the area (in square meters):  2\n"
     ]
    },
    {
     "name": "stdout",
     "output_type": "stream",
     "text": [
      "The pressure is: 25.0 pascals.\n"
     ]
    }
   ],
   "source": [
    "force = float(input(\"Enter the force applied (in newtons): \"))\n",
    "area = float(input(\"Enter the area (in square meters): \"))\n",
    "pressure = force / area\n",
    "print(f\"The pressure is: {pressure} pascals.\")\n"
   ]
  },
  {
   "cell_type": "markdown",
   "id": "32762b88-d66d-4e20-b6e7-b196f61d1796",
   "metadata": {},
   "source": [
    "### 16) Electric power:"
   ]
  },
  {
   "cell_type": "code",
   "execution_count": 69,
   "id": "b20f965f-5baa-4999-a5eb-7993dfd625f7",
   "metadata": {},
   "outputs": [
    {
     "name": "stdin",
     "output_type": "stream",
     "text": [
      "Enter the voltage (in volts):  220\n",
      "Enter the current (in amperes):  5\n"
     ]
    },
    {
     "name": "stdout",
     "output_type": "stream",
     "text": [
      "The electric power is: 1100.0 watts.\n"
     ]
    }
   ],
   "source": [
    "voltage = float(input(\"Enter the voltage (in volts): \"))\n",
    "current = float(input(\"Enter the current (in amperes): \"))\n",
    "power = voltage * current\n",
    "print(f\"The electric power is: {power} watts.\")"
   ]
  },
  {
   "cell_type": "markdown",
   "id": "174c37d1-d751-45c0-b86f-8026e7d632c1",
   "metadata": {},
   "source": [
    "### 17) Perimeter of a circle (circumference):"
   ]
  },
  {
   "cell_type": "code",
   "execution_count": 72,
   "id": "d9355b78-19ad-4160-bf4f-26372d4031d2",
   "metadata": {},
   "outputs": [
    {
     "name": "stdin",
     "output_type": "stream",
     "text": [
      "Enter the radius of the circle (in meters):  7\n"
     ]
    },
    {
     "name": "stdout",
     "output_type": "stream",
     "text": [
      "The circumference of the circle is: 43.98226 meters.\n"
     ]
    }
   ],
   "source": [
    "radius = float(input(\"Enter the radius of the circle (in meters): \"))\n",
    "circumference = 2*3.14159*radius\n",
    "print(f\"The circumference of the circle is: {circumference} meters.\")\n"
   ]
  },
  {
   "cell_type": "markdown",
   "id": "ea96bcae-e6d0-4180-afcb-c2246ccf59e4",
   "metadata": {},
   "source": [
    "### 18) Future value in savings:"
   ]
  },
  {
   "cell_type": "code",
   "execution_count": 89,
   "id": "3a83b68a-fef8-419f-9b66-5bee19441fd9",
   "metadata": {},
   "outputs": [
    {
     "name": "stdin",
     "output_type": "stream",
     "text": [
      "Enter the present value (PV):  1000\n",
      "Enter the annual interest rate (r) as a decimal (e.g., 5% = 0.05):  0.05\n",
      "Enter the time period (t) in years:  3\n"
     ]
    },
    {
     "name": "stdout",
     "output_type": "stream",
     "text": [
      "The future value of the investment is: 1157.63\n"
     ]
    }
   ],
   "source": [
    "PV = float(input(\"Enter the present value (PV): \"))\n",
    "r = float(input(\"Enter the annual interest rate (r) as a decimal (e.g., 5% = 0.05): \"))\n",
    "t = float(input(\"Enter the time period (t) in years: \"))\n",
    "\n",
    "FV = PV * (1 + r)**t\n",
    "print(f\"The future value of the investment is: {FV:.2f}\")\n"
   ]
  },
  {
   "cell_type": "markdown",
   "id": "e7df7a22-53ad-40cc-8048-e23d5f462825",
   "metadata": {},
   "source": [
    "### 19) Work done by a force:"
   ]
  },
  {
   "cell_type": "code",
   "execution_count": 78,
   "id": "8b992d29-4db1-47b1-a880-fef147e1dfd2",
   "metadata": {},
   "outputs": [
    {
     "name": "stdin",
     "output_type": "stream",
     "text": [
      "Enter the force applied (in newtons):  10\n",
      "Enter the displacement (in meters):  5\n",
      "Enter the angle between the force and displacement (in degrees):  0\n"
     ]
    },
    {
     "name": "stdout",
     "output_type": "stream",
     "text": [
      "The work done by the force is: 50.0 joules.\n"
     ]
    }
   ],
   "source": [
    "import math\n",
    "force = float(input(\"Enter the force applied (in newtons): \"))\n",
    "displacement = float(input(\"Enter the displacement (in meters): \"))\n",
    "angle = float(input(\"Enter the angle between the force and displacement (in degrees): \"))\n",
    "angle_radians = math.radians(angle)\n",
    "work_done = force * displacement * math.cos(angle_radians)\n",
    "\n",
    "print(f\"The work done by the force is: {work_done} joules.\")\n"
   ]
  },
  {
   "cell_type": "markdown",
   "id": "28b2c935-9ad9-402e-a86d-951cc731aa27",
   "metadata": {},
   "source": [
    "### 20) Heat transfer:"
   ]
  },
  {
   "cell_type": "code",
   "execution_count": 81,
   "id": "63ff8ee6-d59f-4f05-a5f3-b195577f2c12",
   "metadata": {},
   "outputs": [
    {
     "name": "stdin",
     "output_type": "stream",
     "text": [
      "Enter the mass (in kg):  2\n",
      "Enter the specific heat capacity (J/kg°C):  4186\n",
      "Enter the initial temperature (in °C):  20\n",
      "Enter the final temperature (in °C):  80\n"
     ]
    },
    {
     "name": "stdout",
     "output_type": "stream",
     "text": [
      "The heat energy required is: 502320.0 joules.\n"
     ]
    }
   ],
   "source": [
    "mass = float(input(\"Enter the mass (in kg): \"))\n",
    "specific_heat_capacity = float(input(\"Enter the specific heat capacity (J/kg°C): \"))\n",
    "initial_temperature = float(input(\"Enter the initial temperature (in °C): \"))\n",
    "final_temperature = float(input(\"Enter the final temperature (in °C): \"))\n",
    "\n",
    "delta_temperature = final_temperature - initial_temperature\n",
    "\n",
    "Q = mass * specific_heat_capacity * delta_temperature\n",
    "print(f\"The heat energy required is: {Q} joules.\")\n"
   ]
  },
  {
   "cell_type": "code",
   "execution_count": null,
   "id": "f280f0ea-fd17-4e2e-a236-ff8e2e465c0a",
   "metadata": {},
   "outputs": [],
   "source": []
  }
 ],
 "metadata": {
  "kernelspec": {
   "display_name": "Python 3 (ipykernel)",
   "language": "python",
   "name": "python3"
  },
  "language_info": {
   "codemirror_mode": {
    "name": "ipython",
    "version": 3
   },
   "file_extension": ".py",
   "mimetype": "text/x-python",
   "name": "python",
   "nbconvert_exporter": "python",
   "pygments_lexer": "ipython3",
   "version": "3.12.7"
  }
 },
 "nbformat": 4,
 "nbformat_minor": 5
}

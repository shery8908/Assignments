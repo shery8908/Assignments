{
 "cells": [
  {
   "cell_type": "code",
   "execution_count": 3,
   "id": "c43a8a87-50bf-4089-b52b-f56f732154ec",
   "metadata": {},
   "outputs": [],
   "source": [
    "def create_account(name, initial_balance=0.0):\n",
    "    if initial_balance < 0:\n",
    "        print(\"Initial balance cannot be negative.\")\n",
    "        return None\n",
    "    return {\n",
    "        \"name\": name,\n",
    "        \"balance\": initial_balance,\n",
    "        \"transactions\": []\n",
    "    }"
   ]
  },
  {
   "cell_type": "code",
   "execution_count": 5,
   "id": "b3bf6268-e8d6-4a86-973a-91f264138165",
   "metadata": {},
   "outputs": [],
   "source": [
    "def deposit(account, amount):\n",
    "    if amount <= 0:\n",
    "        print(\"Deposit amount must be positive.\")\n",
    "        return\n",
    "    account[\"balance\"] += amount\n",
    "    account[\"transactions\"].append(f\"Deposit: ${amount}\")\n",
    "    print(f\"Deposited ${amount}. New balance: ${account['balance']:.2f}\")\n",
    "    save_transaction(account[\"name\"], f\"Deposit: ${amount}\")"
   ]
  },
  {
   "cell_type": "code",
   "execution_count": 7,
   "id": "d7652ac3-e4ec-4576-aaf5-339785cce5a5",
   "metadata": {},
   "outputs": [],
   "source": [
    "def withdraw(account, amount):\n",
    "    if amount <= 0:\n",
    "        print(\"Withdrawal amount must be positive.\")\n",
    "        return\n",
    "    if account[\"balance\"] < amount:\n",
    "        print(\"Insufficient funds.\")\n",
    "        return\n",
    "    account[\"balance\"] -= amount\n",
    "    account[\"transactions\"].append(f\"Withdrawal: ${amount}\")\n",
    "    print(f\"Withdrew ${amount}. New balance: ${account['balance']:.2f}\")\n",
    "    save_transaction(account[\"name\"], f\"Withdrawal: ${amount}\")"
   ]
  },
  {
   "cell_type": "code",
   "execution_count": 9,
   "id": "34390528-1dd4-4766-af28-6ac65e0959db",
   "metadata": {},
   "outputs": [],
   "source": [
    "def check_balance(account):\n",
    "    print(f\"Current balance: ${account['balance']:.2f}\")\n",
    "    return account[\"balance\"]"
   ]
  },
  {
   "cell_type": "code",
   "execution_count": 11,
   "id": "3cdda8f5-5045-4bc2-94f5-c90321ea8047",
   "metadata": {},
   "outputs": [],
   "source": [
    "def print_statement(account):\n",
    "    print(f\"Transaction statement for {account['name']}:\")\n",
    "    if not account[\"transactions\"]:\n",
    "        print(\"No transactions found.\")\n",
    "        return\n",
    "    for transaction in account[\"transactions\"]:\n",
    "        print(f\"  - {transaction}\")\n",
    "    print(f\"Final balance: ${account['balance']:.2f}\")"
   ]
  },
  {
   "cell_type": "code",
   "execution_count": 13,
   "id": "7a2f01c7-e2b1-48d0-ac00-6360aab26ac1",
   "metadata": {},
   "outputs": [],
   "source": [
    "def save_transaction(name, transaction):\n",
    "    with open(f\"{name}_transactions.txt\", \"a\") as file:\n",
    "        file.write(transaction + \"\\n\")\n"
   ]
  },
  {
   "cell_type": "code",
   "execution_count": null,
   "id": "a54ef16a-b68d-49df-aa65-75ddc0345865",
   "metadata": {},
   "outputs": [],
   "source": []
  }
 ],
 "metadata": {
  "kernelspec": {
   "display_name": "Python 3 (ipykernel)",
   "language": "python",
   "name": "python3"
  },
  "language_info": {
   "codemirror_mode": {
    "name": "ipython",
    "version": 3
   },
   "file_extension": ".py",
   "mimetype": "text/x-python",
   "name": "python",
   "nbconvert_exporter": "python",
   "pygments_lexer": "ipython3",
   "version": "3.12.7"
  }
 },
 "nbformat": 4,
 "nbformat_minor": 5
}

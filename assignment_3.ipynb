{
 "cells": [
  {
   "cell_type": "markdown",
   "id": "eeebfe11-b48b-4949-bdac-5227bacf3469",
   "metadata": {},
   "source": [
    "# A- Discounts and Pricing"
   ]
  },
  {
   "cell_type": "markdown",
   "id": "17daf393-748a-4647-993f-8ee00bcca9ac",
   "metadata": {},
   "source": [
    "### 1) Check discount eligibility:"
   ]
  },
  {
   "cell_type": "code",
   "execution_count": 2,
   "id": "4ad10f1a-90f8-449d-90b7-45f03ddac0c1",
   "metadata": {},
   "outputs": [
    {
     "name": "stdin",
     "output_type": "stream",
     "text": [
      "Enter the total purchase amount: $ 500\n"
     ]
    },
    {
     "name": "stdout",
     "output_type": "stream",
     "text": [
      "You are eligible for a 10% discount.\n",
      "Discount amount: $50.00\n",
      "Final price after discount: $450.00\n"
     ]
    }
   ],
   "source": [
    "total_purchase = float(input(\"Enter the total purchase amount: $\"))\n",
    "if total_purchase > 100:\n",
    "    discount = total_purchase * 0.10  \n",
    "    final_price = total_purchase - discount\n",
    "    print(f\"You are eligible for a 10% discount.\")\n",
    "    print(f\"Discount amount: ${discount:.2f}\")\n",
    "    print(f\"Final price after discount: ${final_price:.2f}\")\n",
    "else:\n",
    "    print(f\"No discount applied.\")\n",
    "    print(f\"Total price: ${total_purchase:.2f}\")\n"
   ]
  },
  {
   "cell_type": "markdown",
   "id": "8d073ef8-222d-4b12-8d81-4bd55878844d",
   "metadata": {},
   "source": [
    "### 2) Calculate bulk discount:"
   ]
  },
  {
   "cell_type": "code",
   "execution_count": 4,
   "id": "7ee64aad-0dfb-496d-a21e-3794bc4a463f",
   "metadata": {},
   "outputs": [
    {
     "name": "stdin",
     "output_type": "stream",
     "text": [
      "Enter the number of items purchased:  7\n",
      "Enter the total price:  450\n"
     ]
    },
    {
     "name": "stdout",
     "output_type": "stream",
     "text": [
      "Total Price is 382.5\n"
     ]
    }
   ],
   "source": [
    "items = int(input(\"Enter the number of items purchased: \"))\n",
    "total_price = int(input(\"Enter the total price: \"))\n",
    "if items >5:\n",
    "    discount = total_price*.15\n",
    "    print(f\"Total Price is {total_price-discount}\")\n",
    "else:\n",
    "    print(f\"Total Price is {total_price}\")"
   ]
  },
  {
   "cell_type": "markdown",
   "id": "98503b40-6e46-463d-ba3c-8e6a7075d029",
   "metadata": {},
   "source": [
    "### 3) Membership discount:"
   ]
  },
  {
   "cell_type": "code",
   "execution_count": 6,
   "id": "f481855e-b691-4d63-9571-495d939a38fb",
   "metadata": {},
   "outputs": [
    {
     "name": "stdin",
     "output_type": "stream",
     "text": [
      "Are you a member? (yes/no):  yes\n"
     ]
    },
    {
     "name": "stdout",
     "output_type": "stream",
     "text": [
      "The discounted price is: $80.00\n"
     ]
    }
   ],
   "source": [
    "price = 100  \n",
    "is_member = input(\"Are you a member? (yes/no): \").strip().lower()\n",
    "\n",
    "if is_member == \"yes\":\n",
    "    discount = 0.20  \n",
    "else:\n",
    "    discount = 0.05  \n",
    "\n",
    "discounted_price = price * (1 - discount)\n",
    "\n",
    "print(f\"The discounted price is: ${discounted_price:.2f}\")\n"
   ]
  },
  {
   "cell_type": "markdown",
   "id": "25994787-5b2e-4107-acdd-8e8430852383",
   "metadata": {},
   "source": [
    "### 4) Seasonal Sale:"
   ]
  },
  {
   "cell_type": "code",
   "execution_count": 11,
   "id": "2f2db746-c111-497c-b397-c1f6f2fbb939",
   "metadata": {},
   "outputs": [
    {
     "name": "stdin",
     "output_type": "stream",
     "text": [
      "Is today a holiday? (yes/no):  no\n"
     ]
    },
    {
     "name": "stdout",
     "output_type": "stream",
     "text": [
      "The price after discount is: $1800.00\n"
     ]
    }
   ],
   "source": [
    "price = 2000  \n",
    "is_holiday = input(\"Is today a holiday? (yes/no): \").strip().lower()\n",
    "\n",
    "if is_holiday == \"yes\":\n",
    "    discount = 0.25 \n",
    "else:\n",
    "    discount = 0.10  \n",
    "\n",
    "discounted_price = price * (1 - discount)\n",
    "\n",
    "print(f\"The price after discount is: ${discounted_price:.2f}\")\n"
   ]
  },
  {
   "cell_type": "markdown",
   "id": "b30ee522-6286-451b-a315-b79edace04c0",
   "metadata": {},
   "source": [
    "### 5) Buy-One-Get-One-Free:"
   ]
  },
  {
   "cell_type": "code",
   "execution_count": 19,
   "id": "e5e097a7-dd72-43f4-bb81-09c3d6505abc",
   "metadata": {},
   "outputs": [
    {
     "name": "stdin",
     "output_type": "stream",
     "text": [
      "How many items did you buy?  12\n"
     ]
    },
    {
     "name": "stdout",
     "output_type": "stream",
     "text": [
      "You have to pay for 6 items.\n"
     ]
    }
   ],
   "source": [
    "num_items = int(input(\"How many items did you buy? \"))\n",
    "if num_items % 2 == 0: \n",
    "    items_to_pay_for = num_items // 2 \n",
    "else:  \n",
    "    items_to_pay_for = num_items\n",
    "\n",
    "print(f\"You have to pay for {items_to_pay_for} items.\")\n"
   ]
  },
  {
   "cell_type": "markdown",
   "id": "fc85a931-1307-47ca-8411-7573e4842594",
   "metadata": {},
   "source": [
    "# B- Tax Calculations"
   ]
  },
  {
   "cell_type": "markdown",
   "id": "2d4c0809-f2e0-4381-8cb9-ee5a34d14303",
   "metadata": {},
   "source": [
    "### 6) Sales Tax:"
   ]
  },
  {
   "cell_type": "code",
   "execution_count": 35,
   "id": "31473887-3f68-473e-a319-39d802e29451",
   "metadata": {},
   "outputs": [
    {
     "name": "stdin",
     "output_type": "stream",
     "text": [
      "Enter the price of the item: $ 1000\n"
     ]
    },
    {
     "name": "stdout",
     "output_type": "stream",
     "text": [
      "The total price after tax is: $1150.00\n"
     ]
    }
   ],
   "source": [
    "price = float(input(\"Enter the price of the item: $\"))\n",
    "if price > 500:\n",
    "    tax_rate = 0.15  \n",
    "else:\n",
    "    tax_rate = 0.08  \n",
    "\n",
    "total_price = price * (1 + tax_rate)\n",
    "\n",
    "print(f\"The total price after tax is: ${total_price:.2f}\")\n"
   ]
  },
  {
   "cell_type": "markdown",
   "id": "d27e3fb1-f319-4ba8-ba68-d78853991024",
   "metadata": {},
   "source": [
    "### 7) Income Tax:"
   ]
  },
  {
   "cell_type": "code",
   "execution_count": 48,
   "id": "2926ef1f-55be-43e7-8c07-58d947df219f",
   "metadata": {},
   "outputs": [
    {
     "name": "stdin",
     "output_type": "stream",
     "text": [
      "Enter your annual income: $ 80000\n"
     ]
    },
    {
     "name": "stdout",
     "output_type": "stream",
     "text": [
      "The income tax amount is: $16000.00\n"
     ]
    }
   ],
   "source": [
    "income = float(input(\"Enter your annual income: $\"))\n",
    "if income > 50000:\n",
    "    tax_rate = 0.20  \n",
    "else:\n",
    "    tax_rate = 0.10  \n",
    "\n",
    "tax_amount = income * tax_rate\n",
    "print(f\"The income tax amount is: ${tax_amount:.2f}\")\n"
   ]
  },
  {
   "cell_type": "markdown",
   "id": "41c9ea4c-e8dd-4add-9dea-d001d3bd5743",
   "metadata": {},
   "source": [
    "### 8) Tax Bracket:"
   ]
  },
  {
   "cell_type": "code",
   "execution_count": 59,
   "id": "8675b967-ec2f-492f-b0e1-0d8808d00d54",
   "metadata": {},
   "outputs": [
    {
     "name": "stdin",
     "output_type": "stream",
     "text": [
      "Enter your annual income: $ 95000\n"
     ]
    },
    {
     "name": "stdout",
     "output_type": "stream",
     "text": [
      "Your tax bracket is: Medium Tax\n"
     ]
    }
   ],
   "source": [
    "income = float(input(\"Enter your annual income: $\"))\n",
    "if income < 30000:\n",
    "    tax_bracket = \"Low Tax\"\n",
    "elif 30000 <= income < 100000:\n",
    "    tax_bracket = \"Medium Tax\"\n",
    "else:\n",
    "    tax_bracket = \"High Tax\"\n",
    "\n",
    "print(f\"Your tax bracket is: {tax_bracket}\")\n"
   ]
  },
  {
   "cell_type": "markdown",
   "id": "a9126aa0-bbc1-4232-9ed7-1872a7b63f03",
   "metadata": {},
   "source": [
    "### 9) VAT Calculation:"
   ]
  },
  {
   "cell_type": "code",
   "execution_count": 64,
   "id": "b9dea141-8f1a-4d3e-92e9-0ffe6cab4f23",
   "metadata": {},
   "outputs": [
    {
     "name": "stdin",
     "output_type": "stream",
     "text": [
      "Enter the price of the item: $ 500\n",
      "Is the item essential? (yes/no):  no\n"
     ]
    },
    {
     "name": "stdout",
     "output_type": "stream",
     "text": [
      "The final price after VAT is: $560.00\n"
     ]
    }
   ],
   "source": [
    "price = float(input(\"Enter the price of the item: $\"))\n",
    "is_essential = input(\"Is the item essential? (yes/no): \").strip().lower()\n",
    "\n",
    "if is_essential == \"yes\":\n",
    "    vat_rate = 0.05  \n",
    "else:\n",
    "    vat_rate = 0.12  \n",
    "\n",
    "final_price = price * (1 + vat_rate)\n",
    "\n",
    "print(f\"The final price after VAT is: ${final_price:.2f}\")\n"
   ]
  },
  {
   "cell_type": "markdown",
   "id": "71f9af3a-635f-4b80-b8b9-39d066e59500",
   "metadata": {},
   "source": [
    "### 10) Tax-Free Day:"
   ]
  },
  {
   "cell_type": "code",
   "execution_count": 75,
   "id": "9c26ec2e-7663-4b1f-b227-2935f864630f",
   "metadata": {},
   "outputs": [
    {
     "name": "stdin",
     "output_type": "stream",
     "text": [
      "Enter the price of the item: $ 200\n",
      "Is today a tax-free day? (yes/no):  no\n"
     ]
    },
    {
     "name": "stdout",
     "output_type": "stream",
     "text": [
      "The final price is: $214.00\n"
     ]
    }
   ],
   "source": [
    "price = float(input(\"Enter the price of the item: $\"))\n",
    "\n",
    "tax_free = input(\"Is today a tax-free day? (yes/no): \").strip().lower()\n",
    "\n",
    "if tax_free == \"yes\":\n",
    "    final_price = price \n",
    "else:\n",
    "    tax_rate = 0.07 \n",
    "    final_price = price * (1 + tax_rate)\n",
    "\n",
    "print(f\"The final price is: ${final_price:.2f}\")\n"
   ]
  },
  {
   "cell_type": "markdown",
   "id": "b42058ea-25f5-4756-b180-c660f63f6e8d",
   "metadata": {},
   "source": [
    "# C- Shopping and Billing"
   ]
  },
  {
   "cell_type": "markdown",
   "id": "73efa504-09b1-4e0c-8f90-e6c94f5b236b",
   "metadata": {},
   "source": [
    "### 11) Free Shipping:"
   ]
  },
  {
   "cell_type": "code",
   "execution_count": 83,
   "id": "5a521d3f-73f6-41ae-ab88-91fa69629bc9",
   "metadata": {},
   "outputs": [
    {
     "name": "stdin",
     "output_type": "stream",
     "text": [
      "Enter the total purchase amount: $ 40\n"
     ]
    },
    {
     "name": "stdout",
     "output_type": "stream",
     "text": [
      "The total amount including shipping is: $45.00\n"
     ]
    }
   ],
   "source": [
    "total_purchase = float(input(\"Enter the total purchase amount: $\"))\n",
    "\n",
    "if total_purchase > 50:\n",
    "    shipping_cost = 0  \n",
    "else:\n",
    "    shipping_cost = 5  \n",
    "\n",
    "total_amount = total_purchase + shipping_cost\n",
    "print(f\"The total amount including shipping is: ${total_amount:.2f}\")"
   ]
  },
  {
   "cell_type": "markdown",
   "id": "eb59f09d-9add-47a6-a38b-1b98ac54c8fd",
   "metadata": {},
   "source": [
    "### 12) Discount Code:"
   ]
  },
  {
   "cell_type": "code",
   "execution_count": 86,
   "id": "4a741cba-f000-414a-8b92-83d8ef62b372",
   "metadata": {},
   "outputs": [
    {
     "name": "stdin",
     "output_type": "stream",
     "text": [
      "Enter the total purchase amount: $ 5000\n",
      "Enter the discount code:  DISCOUNT10\n"
     ]
    },
    {
     "name": "stdout",
     "output_type": "stream",
     "text": [
      "The final price after discount is: $4500.00\n"
     ]
    }
   ],
   "source": [
    "total_purchase = float(input(\"Enter the total purchase amount: $\"))\n",
    "discount_code = input(\"Enter the discount code: \").strip()\n",
    "\n",
    "if discount_code == \"DISCOUNT10\":\n",
    "    discount = 0.10  \n",
    "else:\n",
    "    discount = 0  \n",
    "\n",
    "final_price = total_purchase * (1 - discount)\n",
    "\n",
    "print(f\"The final price after discount is: ${final_price:.2f}\")"
   ]
  },
  {
   "cell_type": "markdown",
   "id": "086a0683-5d89-407d-a50f-b6e7b9119660",
   "metadata": {},
   "source": [
    "### 13) Tiered Discounts:"
   ]
  },
  {
   "cell_type": "code",
   "execution_count": 95,
   "id": "3552fcf3-7b6c-492c-b2b1-5b928186993f",
   "metadata": {},
   "outputs": [
    {
     "name": "stdin",
     "output_type": "stream",
     "text": [
      "Enter the total purchase amount: $ 500\n"
     ]
    },
    {
     "name": "stdout",
     "output_type": "stream",
     "text": [
      "The final price after discount is: $400.00\n"
     ]
    }
   ],
   "source": [
    "total_purchase = float(input(\"Enter the total purchase amount: $\"))\n",
    "\n",
    "if total_purchase <= 50:\n",
    "    discount = 0  \n",
    "elif 50 < total_purchase <= 100:\n",
    "    discount = 0.10  \n",
    "else:\n",
    "    discount = 0.20  \n",
    "\n",
    "final_price = total_purchase * (1 - discount)\n",
    "print(f\"The final price after discount is: ${final_price:.2f}\")"
   ]
  },
  {
   "cell_type": "markdown",
   "id": "da7038a3-e763-4dd6-8e94-9b8ca34d7628",
   "metadata": {},
   "source": [
    "### 14) Minimum Purchase Requirement:"
   ]
  },
  {
   "cell_type": "code",
   "execution_count": 100,
   "id": "d3a32852-d79e-4e11-8432-5ed2da9294d6",
   "metadata": {},
   "outputs": [
    {
     "name": "stdin",
     "output_type": "stream",
     "text": [
      "Enter the total purchase amount: $ 15\n"
     ]
    },
    {
     "name": "stdout",
     "output_type": "stream",
     "text": [
      "Minimum purchase of $20 is required.\n"
     ]
    }
   ],
   "source": [
    "total_purchase = float(input(\"Enter the total purchase amount: $\"))\n",
    "\n",
    "if total_purchase < 20:\n",
    "    print(\"Minimum purchase of $20 is required.\")\n",
    "else:\n",
    "    print(f\"The total amount is: ${total_purchase:.2f}\")"
   ]
  },
  {
   "cell_type": "markdown",
   "id": "6c7457a0-274c-478d-8281-f4bd911fb800",
   "metadata": {},
   "source": [
    "### 15) Loyalty Points:"
   ]
  },
  {
   "cell_type": "code",
   "execution_count": 107,
   "id": "2775fa54-3d8f-4e74-b9b8-bef65e00b194",
   "metadata": {},
   "outputs": [
    {
     "name": "stdin",
     "output_type": "stream",
     "text": [
      "Enter the total purchase amount: $ 400\n",
      "Are you a loyal member? (yes/no):  yes\n"
     ]
    },
    {
     "name": "stdout",
     "output_type": "stream",
     "text": [
      "You earned 800 loyalty points.\n"
     ]
    }
   ],
   "source": [
    "total_purchase = float(input(\"Enter the total purchase amount: $\"))\n",
    "is_loyal = input(\"Are you a loyal member? (yes/no): \").strip().lower()\n",
    "standard_points_per_dollar = 1\n",
    "\n",
    "if is_loyal == \"yes\":\n",
    "    loyalty_points = total_purchase * standard_points_per_dollar * 2  \n",
    "else:\n",
    "    loyalty_points = total_purchase * standard_points_per_dollar  \n",
    "    \n",
    "print(f\"You earned {loyalty_points:.0f} loyalty points.\")"
   ]
  },
  {
   "cell_type": "markdown",
   "id": "51cdd696-08bd-420b-bf4c-49cbc47e8cee",
   "metadata": {},
   "source": [
    "# D- Travel and Tickets"
   ]
  },
  {
   "cell_type": "markdown",
   "id": "146f09ea-1131-4dcf-8973-b8be3d2fba30",
   "metadata": {},
   "source": [
    "### 16) Travel Discount:"
   ]
  },
  {
   "cell_type": "code",
   "execution_count": 117,
   "id": "78b29170-de74-411e-b568-e1f311745c54",
   "metadata": {},
   "outputs": [
    {
     "name": "stdin",
     "output_type": "stream",
     "text": [
      "Enter the distance traveled in miles:  510\n",
      "Enter the ticket price: $ 1200\n"
     ]
    },
    {
     "name": "stdout",
     "output_type": "stream",
     "text": [
      "The final ticket price is: $960.00\n"
     ]
    }
   ],
   "source": [
    "distance = float(input(\"Enter the distance traveled in miles: \"))\n",
    "ticket_price = float(input(\"Enter the ticket price: $\"))\n",
    "\n",
    "if distance > 500:\n",
    "    discount = 0.20  \n",
    "else:\n",
    "    discount = 0  \n",
    "\n",
    "final_price = ticket_price * (1 - discount)\n",
    "print(f\"The final ticket price is: ${final_price:.2f}\")"
   ]
  },
  {
   "cell_type": "markdown",
   "id": "9c3e89f1-efe1-44c4-9a15-faec76f30d5b",
   "metadata": {},
   "source": [
    "### 17) Child or Senior Discount:"
   ]
  },
  {
   "cell_type": "code",
   "execution_count": 122,
   "id": "50f4b6f8-c220-495e-a621-79c7e17bc76e",
   "metadata": {},
   "outputs": [
    {
     "name": "stdin",
     "output_type": "stream",
     "text": [
      "Enter the passenger's age:  45\n",
      "Enter the ticket price: $ 100\n"
     ]
    },
    {
     "name": "stdout",
     "output_type": "stream",
     "text": [
      "The final ticket price is: $100.00\n"
     ]
    }
   ],
   "source": [
    "age = int(input(\"Enter the passenger's age: \"))\n",
    "ticket_price = float(input(\"Enter the ticket price: $\"))\n",
    "\n",
    "if age < 12 or age > 60:\n",
    "    discount = 0.15  \n",
    "else:\n",
    "    discount = 0 \n",
    "\n",
    "\n",
    "final_price = ticket_price * (1 - discount)\n",
    "print(f\"The final ticket price is: ${final_price:.2f}\")"
   ]
  },
  {
   "cell_type": "markdown",
   "id": "9715f0f2-7037-44f7-a107-e053364479fb",
   "metadata": {},
   "source": [
    "### 18) Ticket Type Pricing:"
   ]
  },
  {
   "cell_type": "code",
   "execution_count": 127,
   "id": "6d45e2ec-5f04-4c9e-abd7-e95423d84379",
   "metadata": {},
   "outputs": [
    {
     "name": "stdin",
     "output_type": "stream",
     "text": [
      "Enter the ticket price: $ 120\n",
      "Is it a weekend? (yes/no):  no\n"
     ]
    },
    {
     "name": "stdout",
     "output_type": "stream",
     "text": [
      "The final ticket price is: $120.00\n"
     ]
    }
   ],
   "source": [
    "ticket_price = float(input(\"Enter the ticket price: $\"))\n",
    "is_weekend = input(\"Is it a weekend? (yes/no): \").strip().lower()\n",
    "\n",
    "if is_weekend == \"yes\":\n",
    "    surcharge = 0.10 \n",
    "else:\n",
    "    surcharge = 0 \n",
    "\n",
    "final_price = ticket_price * (1 + surcharge)\n",
    "print(f\"The final ticket price is: ${final_price:.2f}\")"
   ]
  },
  {
   "cell_type": "markdown",
   "id": "6cabb427-f5ff-4e39-b591-fed70f0a4c2c",
   "metadata": {},
   "source": [
    "### 19) Baggage Fee:"
   ]
  },
  {
   "cell_type": "code",
   "execution_count": 136,
   "id": "f8c470a2-1913-4a1c-9816-67a577302cfa",
   "metadata": {},
   "outputs": [
    {
     "name": "stdin",
     "output_type": "stream",
     "text": [
      "Enter the total baggage weight in kg:  23\n"
     ]
    },
    {
     "name": "stdout",
     "output_type": "stream",
     "text": [
      "Extra baggage fee: $30.00\n"
     ]
    }
   ],
   "source": [
    "baggage_weight = float(input(\"Enter the total baggage weight in kg: \"))\n",
    "weight_limit = 20\n",
    "extra_fee_per_kg = 10  \n",
    "\n",
    "if baggage_weight > weight_limit:\n",
    "    extra_weight = baggage_weight - weight_limit\n",
    "    extra_fee = extra_weight * extra_fee_per_kg\n",
    "else:\n",
    "    extra_fee = 0 \n",
    "\n",
    "if extra_fee > 0:\n",
    "    print(f\"Extra baggage fee: ${extra_fee:.2f}\")\n",
    "else:\n",
    "    print(\"No extra baggage fee.\")"
   ]
  },
  {
   "cell_type": "markdown",
   "id": "0a6f36ec-6875-4d12-9e7c-2c3cb70c2d14",
   "metadata": {},
   "source": [
    "### 20) Early Bird Discount:"
   ]
  },
  {
   "cell_type": "code",
   "execution_count": 147,
   "id": "da37e6f0-668f-473c-85e3-fca1f50dd640",
   "metadata": {},
   "outputs": [
    {
     "name": "stdin",
     "output_type": "stream",
     "text": [
      "Enter the number of days in advance the ticket was booked:  36\n",
      "Enter the ticket price: $ 250\n"
     ]
    },
    {
     "name": "stdout",
     "output_type": "stream",
     "text": [
      "The final ticket price is: $225.00\n"
     ]
    }
   ],
   "source": [
    "days_in_advance = int(input(\"Enter the number of days in advance the ticket was booked: \"))\n",
    "ticket_price = float(input(\"Enter the ticket price: $\"))\n",
    "\n",
    "if days_in_advance > 30:\n",
    "    discount = 0.10  \n",
    "else:\n",
    "    discount = 0  \n",
    "\n",
    "final_price = ticket_price * (1 - discount)\n",
    "print(f\"The final ticket price is: ${final_price:.2f}\")"
   ]
  },
  {
   "cell_type": "markdown",
   "id": "d85734a3-da82-42eb-89b0-e90001ac3ab2",
   "metadata": {},
   "source": [
    "# E- Grades and Performance"
   ]
  },
  {
   "cell_type": "markdown",
   "id": "078aada0-cf9c-480c-9b73-294e3a83e2cc",
   "metadata": {},
   "source": [
    "### 21) Pass or Fail:"
   ]
  },
  {
   "cell_type": "code",
   "execution_count": 153,
   "id": "85ea6b0b-188a-4a3e-b261-41172a7e7ec2",
   "metadata": {},
   "outputs": [
    {
     "name": "stdin",
     "output_type": "stream",
     "text": [
      "Enter the student's score 51\n"
     ]
    },
    {
     "name": "stdout",
     "output_type": "stream",
     "text": [
      "Pass\n"
     ]
    }
   ],
   "source": [
    "score = int(input(\"Enter the student's score\"))\n",
    "if score >= 40:\n",
    "    print(\"Pass\")\n",
    "else:\n",
    "    print(\"Fail\")"
   ]
  },
  {
   "cell_type": "markdown",
   "id": "83c69d41-eaf5-45d0-83f6-a6212abe83b3",
   "metadata": {},
   "source": [
    "### 22) Grade Assignment:"
   ]
  },
  {
   "cell_type": "code",
   "execution_count": 168,
   "id": "d6b6b363-d32d-4722-9d1f-1b32962a6059",
   "metadata": {},
   "outputs": [
    {
     "name": "stdin",
     "output_type": "stream",
     "text": [
      "Enter the student's score:  83.2\n"
     ]
    },
    {
     "name": "stdout",
     "output_type": "stream",
     "text": [
      "The grade is: B\n"
     ]
    }
   ],
   "source": [
    "score = float(input(\"Enter the student's score: \"))\n",
    "\n",
    "if score >= 90:\n",
    "    grade = \"A\"\n",
    "elif 75 <= score < 90:\n",
    "    grade = \"B\"\n",
    "elif 50 <= score < 75:\n",
    "    grade = \"C\"\n",
    "else:\n",
    "    grade = \"F\"\n",
    "\n",
    "print(f\"The grade is: {grade}\")"
   ]
  },
  {
   "cell_type": "markdown",
   "id": "c823db8c-df88-471c-aa29-d74433b74c8c",
   "metadata": {},
   "source": [
    "### 23) Bonus Marks:"
   ]
  },
  {
   "cell_type": "code",
   "execution_count": 175,
   "id": "e56984f1-ac41-4d22-a965-f43e488e5e4d",
   "metadata": {},
   "outputs": [
    {
     "name": "stdin",
     "output_type": "stream",
     "text": [
      "Enter the student's score:  500\n",
      "Did the student complete all assignments? (yes/no):  yes\n"
     ]
    },
    {
     "name": "stdout",
     "output_type": "stream",
     "text": [
      "The final score is: 505\n"
     ]
    }
   ],
   "source": [
    "score = int(input(\"Enter the student's score: \"))\n",
    "completed_assignments = input(\"Did the student complete all assignments? (yes/no): \").strip().lower()\n",
    "\n",
    "if completed_assignments == \"yes\":\n",
    "    score += 5 \n",
    "\n",
    "print(f\"The final score is: {score}\")"
   ]
  },
  {
   "cell_type": "markdown",
   "id": "934070dc-ee2c-48f9-b6f5-e3d8b83356c4",
   "metadata": {},
   "source": [
    "### 24) Attendance Eligiblity:"
   ]
  },
  {
   "cell_type": "code",
   "execution_count": 182,
   "id": "029f939f-22d8-47b1-b14d-9a189d320640",
   "metadata": {},
   "outputs": [
    {
     "name": "stdin",
     "output_type": "stream",
     "text": [
      "Enter the student's attendance percentage:  80\n"
     ]
    },
    {
     "name": "stdout",
     "output_type": "stream",
     "text": [
      "You are  eligible to take the exam.\n"
     ]
    }
   ],
   "source": [
    "attendance_percentage = float(input(\"Enter the student's attendance percentage: \"))\n",
    "\n",
    "if attendance_percentage >= 75:\n",
    "    print(\"You are  eligible to take the exam.\")\n",
    "else:\n",
    "    print(\"You are  not eligible to take the exam.\")"
   ]
  },
  {
   "cell_type": "markdown",
   "id": "e97938b8-bc42-42bc-95d6-50394ac78362",
   "metadata": {},
   "source": [
    "### 25) Scholarship Eligibility:"
   ]
  },
  {
   "cell_type": "code",
   "execution_count": 187,
   "id": "feb9501d-adaf-481c-ad46-67e8e67c1038",
   "metadata": {},
   "outputs": [
    {
     "name": "stdin",
     "output_type": "stream",
     "text": [
      "Enter the student's grade (A, B, C, F):  a\n",
      "Enter the student's annual family income: $ 20000\n"
     ]
    },
    {
     "name": "stdout",
     "output_type": "stream",
     "text": [
      "The student is eligible for a scholarship.\n"
     ]
    }
   ],
   "source": [
    "grade = input(\"Enter the student's grade (A, B, C, F): \").strip().upper()\n",
    "family_income = float(input(\"Enter the student's annual family income: $\"))\n",
    "\n",
    "if grade == \"A\" and family_income < 30000:\n",
    "    print(\"The student is eligible for a scholarship.\")\n",
    "else:\n",
    "    print(\"The student is not eligible for a scholarship.\")"
   ]
  },
  {
   "cell_type": "code",
   "execution_count": null,
   "id": "164be9bd-f071-435a-93e8-c584b4fc5dfc",
   "metadata": {},
   "outputs": [],
   "source": []
  }
 ],
 "metadata": {
  "kernelspec": {
   "display_name": "Python 3 (ipykernel)",
   "language": "python",
   "name": "python3"
  },
  "language_info": {
   "codemirror_mode": {
    "name": "ipython",
    "version": 3
   },
   "file_extension": ".py",
   "mimetype": "text/x-python",
   "name": "python",
   "nbconvert_exporter": "python",
   "pygments_lexer": "ipython3",
   "version": "3.12.7"
  }
 },
 "nbformat": 4,
 "nbformat_minor": 5
}
